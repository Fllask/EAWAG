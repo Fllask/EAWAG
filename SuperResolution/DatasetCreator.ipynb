{
 "cells": [
  {
   "cell_type": "markdown",
   "id": "26e57d0b",
   "metadata": {},
   "source": [
    "This notebook is used to create dataset."
   ]
  },
  {
   "cell_type": "code",
   "execution_count": 1,
   "id": "1c7d6fff",
   "metadata": {},
   "outputs": [
    {
     "name": "stdout",
     "output_type": "stream",
     "text": [
      "adfag\n"
     ]
    }
   ],
   "source": [
    "print('adfag')"
   ]
  },
  {
   "cell_type": "code",
   "execution_count": null,
   "id": "75a95924",
   "metadata": {},
   "outputs": [],
   "source": [
    "#loading of the packages\n",
    "import numpy as np\n",
    "#from scipy import ndimage\n",
    "#import skimage.io\n",
    "#import matplotlib.pyplot as plt\n",
    "#import matplotlib.colors as colors\n",
    "#import os\n",
    "#import random\n",
    "#import pandas as pd\n",
    "#import sys\n",
    "#import time\n",
    "#import pickle\n",
    "#import importlib\n",
    "#custom packages\n",
    "#function_dir = os.path.join(os.pardir, 'Functions')\n",
    "#sys.path.append(function_dir)\n",
    "\n",
    "#import segmentation as seg\n",
    "#importlib.reload(seg) #to make sure the last version of seg is used"
   ]
  },
  {
   "cell_type": "code",
   "execution_count": 1,
   "id": "00455351",
   "metadata": {},
   "outputs": [
    {
     "ename": "NameError",
     "evalue": "name 'os' is not defined",
     "output_type": "error",
     "traceback": [
      "\u001b[1;31m---------------------------------------------------------------------------\u001b[0m",
      "\u001b[1;31mNameError\u001b[0m                                 Traceback (most recent call last)",
      "\u001b[1;32m<ipython-input-1-b1f2797b1424>\u001b[0m in \u001b[0;36m<module>\u001b[1;34m\u001b[0m\n\u001b[0;32m      1\u001b[0m \u001b[1;31m#loading of the images\u001b[0m\u001b[1;33m\u001b[0m\u001b[1;33m\u001b[0m\u001b[1;33m\u001b[0m\u001b[0m\n\u001b[0;32m      2\u001b[0m \u001b[1;33m\u001b[0m\u001b[0m\n\u001b[1;32m----> 3\u001b[1;33m \u001b[0mdata_base_path\u001b[0m \u001b[1;33m=\u001b[0m \u001b[0mos\u001b[0m\u001b[1;33m.\u001b[0m\u001b[0mpath\u001b[0m\u001b[1;33m.\u001b[0m\u001b[0mjoin\u001b[0m\u001b[1;33m(\u001b[0m\u001b[0mos\u001b[0m\u001b[1;33m.\u001b[0m\u001b[0mpardir\u001b[0m\u001b[1;33m,\u001b[0m \u001b[1;34m'Datasets'\u001b[0m\u001b[1;33m)\u001b[0m\u001b[1;33m\u001b[0m\u001b[1;33m\u001b[0m\u001b[0m\n\u001b[0m\u001b[0;32m      4\u001b[0m \u001b[0mdata_folder\u001b[0m \u001b[1;33m=\u001b[0m \u001b[0mos\u001b[0m\u001b[1;33m.\u001b[0m\u001b[0mpath\u001b[0m\u001b[1;33m.\u001b[0m\u001b[0mjoin\u001b[0m\u001b[1;33m(\u001b[0m\u001b[1;34m'PMID2019'\u001b[0m\u001b[1;33m,\u001b[0m \u001b[1;34m'JPEGImages'\u001b[0m\u001b[1;33m)\u001b[0m\u001b[1;33m\u001b[0m\u001b[1;33m\u001b[0m\u001b[0m\n\u001b[0;32m      5\u001b[0m \u001b[0mdata_path\u001b[0m \u001b[1;33m=\u001b[0m \u001b[0mos\u001b[0m\u001b[1;33m.\u001b[0m\u001b[0mpath\u001b[0m\u001b[1;33m.\u001b[0m\u001b[0mjoin\u001b[0m\u001b[1;33m(\u001b[0m\u001b[0mdata_base_path\u001b[0m\u001b[1;33m,\u001b[0m \u001b[0mdata_folder\u001b[0m\u001b[1;33m)\u001b[0m\u001b[1;33m\u001b[0m\u001b[1;33m\u001b[0m\u001b[0m\n",
      "\u001b[1;31mNameError\u001b[0m: name 'os' is not defined"
     ]
    }
   ],
   "source": [
    "#loading of the images\n",
    "\n",
    "data_base_path = os.path.join(os.pardir, 'Datasets')\n",
    "data_folder = os.path.join('PMID2019', 'JPEGImages')\n",
    "data_path = os.path.join(data_base_path, data_folder)"
   ]
  },
  {
   "cell_type": "code",
   "execution_count": null,
   "id": "a585c021",
   "metadata": {},
   "outputs": [],
   "source": []
  }
 ],
 "metadata": {
  "kernelspec": {
   "display_name": "Python 3",
   "language": "python",
   "name": "python3"
  },
  "language_info": {
   "codemirror_mode": {
    "name": "ipython",
    "version": 3
   },
   "file_extension": ".py",
   "mimetype": "text/x-python",
   "name": "python",
   "nbconvert_exporter": "python",
   "pygments_lexer": "ipython3",
   "version": "3.8.8"
  }
 },
 "nbformat": 4,
 "nbformat_minor": 5
}
