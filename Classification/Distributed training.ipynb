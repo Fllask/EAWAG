{
 "cells": [
  {
   "cell_type": "code",
   "execution_count": 7,
   "id": "2e8a78bf",
   "metadata": {},
   "outputs": [
    {
     "name": "stdout",
     "output_type": "stream",
     "text": [
      "The tensorboard extension is already loaded. To reload it, use:\n",
      "  %reload_ext tensorboard\n"
     ]
    }
   ],
   "source": [
    "import numpy as np\n",
    "import tensorflow.keras as keras\n",
    "import tensorflow.keras.utils\n",
    "import tensorflow as tf\n",
    "import matplotlib.pyplot as plt\n",
    "import pandas as pd\n",
    "import os.path\n",
    "import sklearn.model_selection\n",
    "import importlib\n",
    "import sys\n",
    "%load_ext tensorboard\n",
    "\n",
    "function_dir = os.path.join(os.pardir, 'Functions')\n",
    "sys.path.append(function_dir)\n",
    "\n",
    "import models as mod\n",
    "importlib.reload(mod) #to make sure the last version of seg is used\n",
    "import DLtools as tools\n",
    "import json\n",
    "import os"
   ]
  },
  {
   "cell_type": "code",
   "execution_count": 3,
   "id": "0c422067",
   "metadata": {},
   "outputs": [],
   "source": [
    "#address of the base folder:\n",
    "base = \"R:\\\\3.Masters_projects\\\\2021_Dominic_Rebindaine\\\\ROI\"\n",
    "#extract the name from the file name:\n",
    "name_l =[]\n",
    "path_l = []\n",
    "for fname in os.listdir(base):\n",
    "    pathto = os.path.join(base,fname)\n",
    "    \n",
    "    if os.path.isdir(pathto):\n",
    "        path_l.append(pathto)\n",
    "        split = fname.split(sep='_')\n",
    "        if len(split)>2:\n",
    "            name = split[1]\n",
    "            name_l.append(name)\n",
    "#group identical labels together:\n",
    "label_name, label = np.unique(name_l,return_inverse=True)"
   ]
  },
  {
   "cell_type": "code",
   "execution_count": 4,
   "id": "184beca2",
   "metadata": {},
   "outputs": [],
   "source": [
    "#define the input data:\n",
    "size = 200"
   ]
  },
  {
   "cell_type": "code",
   "execution_count": 5,
   "id": "7c12d749",
   "metadata": {},
   "outputs": [],
   "source": [
    "#open the images and find their label\n",
    "def data_opener(name):\n",
    "    img = tf.io.decode_png(tf.io.read_file(name))\n",
    "    X = tf.image.resize(img,(size,size))\n",
    "    Xn = tf.image.per_image_standardization(X)\n",
    "    part = tf.strings.split(name,os.sep)\n",
    "    fname = part[4]\n",
    "    fpart = tf.strings.split(fname,'_')\n",
    "    if len(fpart)<2:\n",
    "        y = -1\n",
    "    else:\n",
    "        el_label = fpart[1]\n",
    "        y = -1\n",
    "        for idx, label in enumerate(label_name):\n",
    "            if label == el_label:\n",
    "                y = idx\n",
    "    data = (Xn,y)\n",
    "    return data\n",
    "def upsample(name_list, n_cat):\n",
    "    n_sample = np.zeros(n_cat)\n",
    "    for name in name_list:\n",
    "        part = tf.strings.split(name,os.sep)\n",
    "        fname = part[4]\n",
    "        fpart = tf.strings.split(fname,'_')\n",
    "        if len(fpart)<2:\n",
    "            y = -1\n",
    "        else:\n",
    "            el_label = fpart[1]\n",
    "            y = -1\n",
    "            for idx, label in enumerate(label_name):\n",
    "                if label == el_label:\n",
    "                    y = idx\n",
    "        data = (Xn,y)\n",
    "#logs: aug:   no gaussian noise\n",
    "#      aug2:  gaussian noise with stddev = 0.1\n",
    "#      aug3:  gaussian noise with stddev in [0:0.2] (and no random sat or contrast)\n",
    "#      aug4:  data shuffled each epoch\n",
    "#      aug5:  gaussian noise removed\n",
    "def data_aug(img,label):\n",
    "    img = tf.image.random_flip_left_right(img)\n",
    "    img = tf.image.random_flip_up_down(img)\n",
    "    rnd = np.random.randint(4)\n",
    "    img = tf.image.rot90(img,k=rnd)\n",
    "    img = tf.image.random_hue(img,0.1)\n",
    "    #stddev = tf.random.uniform(shape=[1],maxval=0.05)\n",
    "    #img+= tf.random.normal((size,size,3),stddev=stddev)\n",
    "    return (img,label)\n",
    "\n",
    "\n",
    "def input_pipeline(ds, augmentation = False):\n",
    "    ds = ds.shuffle(10000)\n",
    "    ds = ds.map(data_opener)\n",
    "    #filter out the unlabeled elements\n",
    "    ds = ds.filter(lambda X,y: y>=0)\n",
    "    if augmentation:\n",
    "        ds = ds.map(data_aug)\n",
    "    ds = ds.batch(32)\n",
    "    ds = ds.prefetch(3)\n",
    "    return ds\n",
    "\n",
    "    "
   ]
  },
  {
   "cell_type": "code",
   "execution_count": 6,
   "id": "ca916882",
   "metadata": {},
   "outputs": [],
   "source": [
    "file_names = tf.data.Dataset.list_files('R:\\\\3.Masters_projects\\\\2021_Dominic_Rebindaine\\\\ROI\\\\*\\\\*\\\\*.png')\n",
    "#split the dataset now, as the loading of the image would need too long to use the list function\n",
    "train, val = sklearn.model_selection.train_test_split(list(file_names),test_size= 0.2)\n",
    "dt = tf.data.Dataset.from_tensor_slices(train)\n",
    "dv = tf.data.Dataset.from_tensor_slices(val)\n",
    "\n",
    "dt = input_pipeline(dt,augmentation = True)\n",
    "dv = input_pipeline(dv)"
   ]
  },
  {
   "cell_type": "code",
   "execution_count": 10,
   "id": "a7cbfceb",
   "metadata": {},
   "outputs": [],
   "source": [
    "os.environ[\"CUDA_VISIBLE_DEVICES\"] = \"-1\"\n",
    "os.environ.pop('TF_CONFIG', None)\n",
    "if '.' not in sys.path:\n",
    "    sys.path.insert(0, '.')\n"
   ]
  },
  {
   "cell_type": "code",
   "execution_count": 14,
   "id": "59bd571d",
   "metadata": {},
   "outputs": [
    {
     "data": {
      "text/plain": [
       "'{\"cluster\": {\"worker\": [\"localhost:12345\", \"localhost:23456\", \"localhost:34567\"]}, \"task\": {\"type\": \"worker\", \"index\": 0}}'"
      ]
     },
     "execution_count": 14,
     "metadata": {},
     "output_type": "execute_result"
    }
   ],
   "source": [
    "tf_config = {\n",
    "    'cluster': {\n",
    "        'worker': ['localhost:12345', 'localhost:23456','localhost:34567']\n",
    "    },\n",
    "    'task': {'type': 'worker', 'index': 0}\n",
    "}\n",
    "json.dumps(tf_config)\n"
   ]
  },
  {
   "cell_type": "code",
   "execution_count": 13,
   "id": "072246e6",
   "metadata": {},
   "outputs": [
    {
     "name": "stdout",
     "output_type": "stream",
     "text": [
      "WARNING:tensorflow:Collective ops is not configured at program startup. Some performance features may not be enabled.\n",
      "INFO:tensorflow:Single-worker MultiWorkerMirroredStrategy with local_devices = ('/device:GPU:0',), communication = CommunicationImplementation.AUTO\n"
     ]
    }
   ],
   "source": [
    "strategy = tf.distribute.MultiWorkerMirroredStrategy()"
   ]
  },
  {
   "cell_type": "code",
   "execution_count": null,
   "id": "39f9eec7",
   "metadata": {},
   "outputs": [],
   "source": [
    "with strategy.scope():\n",
    "     #Model building/compiling need to be within `strategy.scope()`.\n",
    "    multi_worker_model = classifier_def.build_and_compile()\n"
   ]
  }
 ],
 "metadata": {
  "kernelspec": {
   "display_name": "Python 3 (ipykernel)",
   "language": "python",
   "name": "python3"
  },
  "language_info": {
   "codemirror_mode": {
    "name": "ipython",
    "version": 3
   },
   "file_extension": ".py",
   "mimetype": "text/x-python",
   "name": "python",
   "nbconvert_exporter": "python",
   "pygments_lexer": "ipython3",
   "version": "3.9.7"
  }
 },
 "nbformat": 4,
 "nbformat_minor": 5
}
