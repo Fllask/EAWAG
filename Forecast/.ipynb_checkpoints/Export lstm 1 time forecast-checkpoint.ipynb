{
 "cells": [
  {
   "cell_type": "code",
   "execution_count": 110,
   "id": "34a043aa",
   "metadata": {},
   "outputs": [],
   "source": [
    "import torch\n",
    "import pandas as pd\n",
    "import numpy as np\n",
    "import yaml\n",
    "import importlib\n",
    "import sys\n",
    "import os\n",
    "import matplotlib.pyplot as plt\n",
    "import glob\n",
    "from IPython.display import HTML\n",
    "from matplotlib.animation import FuncAnimation\n",
    "stf_dir = os.path.join(os.pardir, 'spacetimeformer')\n",
    "\n",
    "sys.path.append(stf_dir)\n",
    "\n",
    "\n",
    "import spacetimeformer as stf\n",
    "importlib.reload(stf) #to make sure the last version of stf is used\n",
    "\n",
    "from torch.distributions import Normal\n",
    "import pickle"
   ]
  },
  {
   "cell_type": "code",
   "execution_count": 111,
   "id": "8d4e8b7b",
   "metadata": {},
   "outputs": [
    {
     "data": {
      "text/plain": [
       "['run-20220309_144454-tq5nzspb',\n",
       " 'run-20220309_145450-3nzjwnv9',\n",
       " 'run-20220309_160528-dncdoo7o',\n",
       " 'run-20220309_162332-1wvm6y6m',\n",
       " 'run-20220309_162357-142148s6',\n",
       " 'run-20220309_163828-1p01uoj3',\n",
       " 'run-20220309_175332-1zbkkp2a',\n",
       " 'run-20220309_175357-16nfo94h',\n",
       " 'run-20220309_180329-3foofrtb',\n",
       " 'run-20220310_133006-gxxfap3n',\n",
       " 'run-20220310_134344-2wrqohoq',\n",
       " 'run-20220311_143155-1qph7vgp',\n",
       " 'run-20220311_143213-3camjv6f',\n",
       " 'run-20220311_143924-3asnwyy9',\n",
       " 'run-20220311_144132-3fwfsn6w',\n",
       " 'run-20220311_145607-3ficlwez',\n",
       " 'run-20220311_171546-3gxv9qle',\n",
       " 'run-20220311_174834-ym4uvfpv',\n",
       " 'run-20220311_174915-3pwi5dx8',\n",
       " 'run-20220311_175054-32lr4vqw',\n",
       " 'run-20220314_090524-14ssgdk9',\n",
       " 'run-20220314_092703-2vahwf14',\n",
       " 'run-20220314_092732-1uhy3tbv',\n",
       " 'run-20220314_092812-156pzr5x',\n",
       " 'run-20220314_132645-2tdi8anz',\n",
       " 'run-20220314_132715-1vlskdzo',\n",
       " 'run-20220315_103112-3nbf1la4',\n",
       " 'run-20220315_103139-2kfujejz',\n",
       " 'run-20220315_105704-26gojq82',\n",
       " 'run-20220315_110033-6g39nco2',\n",
       " 'run-20220315_143735-1oje4147',\n",
       " 'run-20220315_144132-23v3efqh',\n",
       " 'run-20220315_161707-lllew5w0',\n",
       " 'run-20220315_161738-rc9wvmte',\n",
       " 'run-20220315_161806-9q5sp3p5',\n",
       " 'run-20220315_161831-s4i92f12',\n",
       " 'run-20220315_161853-w54ojur0',\n",
       " 'run-20220315_161957-czbviiey',\n",
       " 'run-20220315_162029-xitz12tf',\n",
       " 'run-20220315_162101-rvk9jn1k',\n",
       " 'run-20220315_162123-8k2eozmy',\n",
       " 'run-20220315_162143-00uhzwgn',\n",
       " 'run-20220315_162216-10fs5snd',\n",
       " 'run-20220315_162237-tggbssjs',\n",
       " 'run-20220315_162331-6vm23gs1',\n",
       " 'run-20220315_162351-ti6nta0w',\n",
       " 'run-20220315_162413-pnwjtrcf',\n",
       " 'run-20220316_150251-yvfntpo7',\n",
       " 'run-20220316_160956-y66jrc0f',\n",
       " 'run-20220316_163214-x34axwlc',\n",
       " 'run-20220316_165133-gjmugnln',\n",
       " 'run-20220316_170606-kwcq13dx',\n",
       " 'run-20220316_170642-rovquezq',\n",
       " 'run-20220316_172646-ejj82z43',\n",
       " 'run-20220316_172724-aczoqi4v',\n",
       " 'run-20220316_173950-ndt65h9v',\n",
       " 'run-20220316_183739-1it92bjk',\n",
       " 'run-20220316_190359-gjlruynf',\n",
       " 'run-20220316_192302-p3b5ea8x',\n",
       " 'run-20220316_193947-aqp04im1',\n",
       " 'run-20220316_195535-uwn07jcc',\n",
       " 'run-20220316_214743-h4luyotq',\n",
       " 'run-20220316_221155-mvvg8p1e',\n",
       " 'run-20220317_105801-9lun7umg',\n",
       " 'run-20220317_105832-ers13959',\n",
       " 'run-20220317_110945-w9lrrald',\n",
       " 'run-20220317_112648-1gjs6bl6',\n",
       " 'run-20220317_112731-1aygoe3p',\n",
       " 'run-20220317_114604-1nik2wsx',\n",
       " 'run-20220317_115619-17tfkr8o',\n",
       " 'run-20220317_120802-hemesdru',\n",
       " 'run-20220317_120828-7u9fss45',\n",
       " 'run-20220317_120905-dzeotk9g',\n",
       " 'run-20220317_121736-yfrv376w',\n",
       " 'run-20220317_123718-s4ac40ma',\n",
       " 'run-20220317_125240-7v5es87v',\n",
       " 'run-20220317_125316-pgj76r39',\n",
       " 'run-20220317_125348-iws0uttc',\n",
       " 'run-20220317_130925-jhsxoa7p',\n",
       " 'run-20220317_145357-246qjbvt',\n",
       " 'run-20220317_153523-p6t9bzw5',\n",
       " 'run-20220317_154751-jofwtj37',\n",
       " 'run-20220317_154907-t7b6xg1x',\n",
       " 'run-20220317_171435-2wtvddsd',\n",
       " 'run-20220317_182127-2nohlllr',\n",
       " 'run-20220317_184050-11qvsgw9',\n",
       " 'run-20220317_184316-gt3bk7k2',\n",
       " 'run-20220317_190718-10oln6j0',\n",
       " 'run-20220317_193001-89vroad4',\n",
       " 'run-20220317_194252-big21sn9',\n",
       " 'run-20220317_200126-ffztc53a',\n",
       " 'run-20220317_200224-l1sg7xjl',\n",
       " 'run-20220317_201157-oaf9z0kx',\n",
       " 'run-20220321_090657-35ujoqbo',\n",
       " 'run-20220321_090744-2p2j5rkr',\n",
       " 'run-20220321_095700-2wei9fxa',\n",
       " 'run-20220321_110157-2liyc8s0',\n",
       " 'run-20220321_111449-3uh5oybw',\n",
       " 'run-20220321_115200-1ct0nwe0',\n",
       " 'run-20220321_115229-1zjtj4zi',\n",
       " 'run-20220321_122616-webdvmxn',\n",
       " 'run-20220321_122633-1t544mkp',\n",
       " 'run-20220321_122648-d71tzgrw',\n",
       " 'run-20220321_122846-sp7d7jh6',\n",
       " 'run-20220321_123642-4mhk7rla',\n",
       " 'run-20220321_130004-wnaongya',\n",
       " 'run-20220321_132403-sjdwkr2s',\n",
       " 'run-20220321_140020-1zu1bz07',\n",
       " 'run-20220321_140054-4nd5b8qu',\n",
       " 'run-20220321_143457-e3gd116t',\n",
       " 'run-20220321_144440-jv6324jv',\n",
       " 'run-20220321_154612-29hm79xp',\n",
       " 'run-20220321_154833-b86d3c1b',\n",
       " 'run-20220322_021358-vtgl167l',\n",
       " 'run-20220322_022844-1cg9udkq',\n",
       " 'run-20220322_024119-3gz808rj',\n",
       " 'run-20220322_092720-vq9aq9s3',\n",
       " 'run-20220322_094413-3b0882bc',\n",
       " 'run-20220322_101034-3qzpyvcz',\n",
       " 'run-20220322_103802-ack1mekl',\n",
       " 'run-20220324_105742-q6eimpt8',\n",
       " 'run-20220324_105940-ec1rnchd',\n",
       " 'run-20220324_111933-mwd2stcj',\n",
       " 'run-20220324_115819-7chpwx5k',\n",
       " 'run-20220324_121015-stih5l0q',\n",
       " 'run-20220324_123231-nkee0vil',\n",
       " 'run-20220324_161047-1o0utfos',\n",
       " 'run-20220325_132425-59itg7p3',\n",
       " 'run-20220325_145126-2wutna06',\n",
       " 'run-20220325_145204-3q5or7wj',\n",
       " 'run-20220325_145233-gpfk63vj',\n",
       " 'run-20220325_145445-2yhude5i',\n",
       " 'run-20220325_145521-2p9gepbj',\n",
       " 'run-20220325_145550-24rktlhk',\n",
       " 'run-20220325_145636-1nityu9t',\n",
       " 'run-20220325_145719-8m5wpviw',\n",
       " 'run-20220325_175816-1wlof611',\n",
       " 'run-20220325_175845-1do7jx4f',\n",
       " 'run-20220328_095331-3m2bcyh4',\n",
       " 'run-20220328_162155-i4f1pw98',\n",
       " 'run-20220328_162236-gch71m47',\n",
       " 'run-20220328_170729-rz3m5u3g',\n",
       " 'run-20220328_171027-2f3anf5b',\n",
       " 'run-20220328_171117-dhw7lkhd',\n",
       " 'run-20220328_180251-1dh63g4v',\n",
       " 'run-20220329_122924-34s5x0ug',\n",
       " 'run-20220329_122959-35swxq87',\n",
       " 'run-20220329_135016-opg3az1t',\n",
       " 'run-20220329_135618-4ck6kmdh',\n",
       " 'run-20220329_135710-vtkdyxzh',\n",
       " 'run-20220329_144856-qe41434a',\n",
       " 'run-20220329_145633-mwx26tlw',\n",
       " 'run-20220329_145718-8jysoegj',\n",
       " 'run-20220329_152021-zy79bn1y',\n",
       " 'run-20220329_163047-nnvp6hyh',\n",
       " 'run-20220329_164548-e87i671u',\n",
       " 'run-20220329_165550-t2kb722o',\n",
       " 'run-20220329_165632-pow9woue',\n",
       " 'run-20220329_165728-e58pnsol',\n",
       " 'run-20220329_170505-af7wu4fc',\n",
       " 'run-20220329_171355-adpu63ol',\n",
       " 'run-20220329_172308-b2dbhtlu',\n",
       " 'run-20220329_180554-x5ekb01s',\n",
       " 'run-20220329_181612-r7odjcan',\n",
       " 'run-20220330_093943-j07xhhfn',\n",
       " 'run-20220330_095017-952yok5u',\n",
       " 'run-20220330_095945-9517p60z',\n",
       " 'run-20220330_101335-179t0i32',\n",
       " 'run-20220330_103038-d5ccz1d7',\n",
       " 'run-20220330_104447-rm0xnoh6',\n",
       " 'run-20220330_105549-u5yjokzd',\n",
       " 'run-20220330_110639-dhyv6090',\n",
       " 'run-20220330_110722-hb6f4dhm',\n",
       " 'run-20220330_110754-jp2lv4vc',\n",
       " 'run-20220330_125453-c83ibup1',\n",
       " 'run-20220330_130639-k240nk39',\n",
       " 'run-20220330_131525-d071bxjr',\n",
       " 'run-20220330_132410-mvhhc7db',\n",
       " 'run-20220330_134125-9g9l67rr',\n",
       " 'run-20220330_135134-a4jbxjak',\n",
       " 'run-20220330_135923-58o935ar',\n",
       " 'run-20220330_140707-fkh857gf',\n",
       " 'run-20220330_141909-cs1pltxc',\n",
       " 'run-20220330_150600-5pj65lgm',\n",
       " 'run-20220330_151850-n1f4xffm',\n",
       " 'run-20220330_163605-4qffay4y',\n",
       " 'run-20220330_164747-tgwiqqem',\n",
       " 'run-20220331_110222-tf6k1loj',\n",
       " 'run-20220331_111318-gmvpk6i9',\n",
       " 'run-20220331_114615-3ss54bue',\n",
       " 'run-20220331_120746-vw9mtl2s',\n",
       " 'run-20220331_122004-kllg9c87',\n",
       " 'run-20220331_123743-1oij2cb0',\n",
       " 'run-20220331_125550-5ogi8rz8',\n",
       " 'run-20220331_131615-ob6nnwm5',\n",
       " 'run-20220331_132755-3rs9mnp6',\n",
       " 'run-20220331_133828-j6gcn3qx',\n",
       " 'run-20220331_140253-5yjsf2g7',\n",
       " 'run-20220331_142014-naiydouq',\n",
       " 'run-20220331_142923-kwdwo8tf',\n",
       " 'run-20220331_144355-icqxujd9',\n",
       " 'run-20220331_152347-249o3ybr',\n",
       " 'run-20220331_154650-9d0p7yfl',\n",
       " 'run-20220331_161352-2g6vexo8',\n",
       " 'run-20220331_164057-llaf3m2v',\n",
       " 'run-20220331_165503-hczyjzy8',\n",
       " 'run-20220331_173123-gsdu9w64',\n",
       " 'run-20220331_173916-n0syol87',\n",
       " 'run-20220331_175052-bsiy4cii',\n",
       " 'run-20220331_183918-249ipcvv',\n",
       " 'run-20220331_184059-39bsw7di',\n",
       " 'run-20220331_184153-1wkxez8v',\n",
       " 'run-20220331_184234-6cgfman2',\n",
       " 'run-20220331_184611-1tzrfpib',\n",
       " 'run-20220331_184748-kj9n6pq9',\n",
       " 'run-20220331_184818-3a4s9f9m',\n",
       " 'run-20220331_185110-2m33qwfu',\n",
       " 'run-20220331_185343-yqxembb7',\n",
       " 'run-20220404_120443-3um34x19',\n",
       " 'run-20220404_135342-21v0wd59',\n",
       " 'run-20220404_140000-g4kkm6w7',\n",
       " 'run-20220404_141245-cfk4nl4r',\n",
       " 'run-20220404_141305-uwqbkp5v',\n",
       " 'run-20220404_142713-266d18o0',\n",
       " 'run-20220404_163755-2no2l4qy',\n",
       " 'run-20220404_173200-wwpes01w',\n",
       " 'run-20220404_174842-nmu8j68u',\n",
       " 'run-20220404_175942-vakld6kh',\n",
       " 'run-20220404_191742-vmdm9t98',\n",
       " 'run-20220405_093036-53myrvnl',\n",
       " 'run-20220405_093057-1msb80nc',\n",
       " 'run-20220405_100433-36i1ba9i',\n",
       " 'run-20220405_100847-3e4yw1ea',\n",
       " 'run-20220406_132032-1igyjlrw',\n",
       " 'run-20220406_141538-1p64nq19',\n",
       " 'run-20220406_141629-3kimypln',\n",
       " 'run-20220406_142234-2k1k83kn',\n",
       " 'run-20220406_143629-g48bfvzg',\n",
       " 'run-20220406_154643-263zff1a',\n",
       " 'run-20220406_165431-uumzxgp5',\n",
       " 'run-20220406_180018-2gpya43k',\n",
       " 'run-20220407_105030-c45j54ip',\n",
       " 'run-20220407_131028-1rhw3s1m',\n",
       " 'run-20220407_162848-1up82v0s',\n",
       " 'run-20220407_162930-3cxr9h04',\n",
       " 'run-20220407_165039-t7xpmxmo',\n",
       " 'run-20220407_165144-37rkepjv',\n",
       " 'run-20220407_171228-1v5i0drj',\n",
       " 'run-20220407_171509-3j7ep4v5',\n",
       " 'run-20220407_171702-4j055wey',\n",
       " 'run-20220407_173858-h318ynnm',\n",
       " 'run-20220407_175855-255l2vya',\n",
       " 'run-20220407_184229-1ih5f2hv',\n",
       " 'run-20220407_190444-2pis9qma',\n",
       " 'run-20220407_191510-lte8sahf',\n",
       " 'run-20220407_191526-qju3xkie',\n",
       " 'run-20220407_191542-tp9r5uyp',\n",
       " 'run-20220407_191558-rv9m9d2q',\n",
       " 'run-20220407_191614-2dr2l7hy',\n",
       " 'run-20220407_191631-sb6as13i',\n",
       " 'run-20220407_191647-bc3n75ed',\n",
       " 'run-20220407_191703-5xvncshs',\n",
       " 'run-20220407_191719-o3jmi82j',\n",
       " 'run-20220407_191736-81qzdpsl',\n",
       " 'run-20220407_191752-q78indau',\n",
       " 'run-20220407_191809-mv3g5iva',\n",
       " 'run-20220407_191824-ttcuox8d',\n",
       " 'run-20220407_191840-saaive9h',\n",
       " 'run-20220407_191856-e9tuibl0',\n",
       " 'run-20220408_135442-f0stsj37',\n",
       " 'run-20220408_135504-f0stsj37',\n",
       " 'run-20220408_135519-a2lown1z',\n",
       " 'run-20220408_135533-o2nc3p3i',\n",
       " 'run-20220408_135550-4r9w8y3p',\n",
       " 'run-20220408_135605-h9eycdvc',\n",
       " 'run-20220408_135620-c6u5q4xc',\n",
       " 'run-20220408_135637-qskaim9l',\n",
       " 'run-20220408_135653-axc2h3r6',\n",
       " 'run-20220408_135708-xf58tncs',\n",
       " 'run-20220408_135724-kgfbo3y6',\n",
       " 'run-20220408_135742-7gggxoes',\n",
       " 'run-20220408_135758-0o4skx31',\n",
       " 'run-20220408_135820-f5txic9h',\n",
       " 'run-20220408_135834-v7aelp1u',\n",
       " 'run-20220408_135850-b550wg1b',\n",
       " 'run-20220408_135907-k09sijv5',\n",
       " 'run-20220408_135922-bgtfi1ws',\n",
       " 'run-20220408_153819-11pblexo',\n",
       " 'run-20220408_153916-b2j32uw9',\n",
       " 'run-20220408_153949-7egu76l2',\n",
       " 'run-20220408_154156-vm31hs31',\n",
       " 'run-20220408_154211-5csd6bh2',\n",
       " 'run-20220408_154226-eygzkewm',\n",
       " 'run-20220408_154335-1hrjoqgk',\n",
       " 'run-20220408_154603-32uwd38h',\n",
       " 'run-20220408_154851-7iet9hwn',\n",
       " 'run-20220408_155353-x4optz3l',\n",
       " 'run-20220408_155514-3p3elqww',\n",
       " 'run-20220408_155700-hf38akte',\n",
       " 'run-20220408_155716-c2ocou4k',\n",
       " 'run-20220411_155327-1xu9o63s',\n",
       " 'run-20220411_160154-1v2cakoy',\n",
       " 'run-20220411_172736-1c82y6b8',\n",
       " 'run-20220411_184126-q145mlzf',\n",
       " 'run-20220411_223204-32t77qsl',\n",
       " 'run-20220411_235344-okij5xxj',\n",
       " 'run-20220414_140011-2g689wuc',\n",
       " 'run-20220414_140308-1llngoc7',\n",
       " 'run-20220414_140439-3gftvviu',\n",
       " 'run-20220414_143813-1joxekzi',\n",
       " 'run-20220414_151324-3kt91dit',\n",
       " 'run-20220414_163024-e50mqup8',\n",
       " 'run-20220414_164744-14ts2nmq',\n",
       " 'run-20220414_170722-3gcubtj3']"
      ]
     },
     "execution_count": 111,
     "metadata": {},
     "output_type": "execute_result"
    }
   ],
   "source": [
    "os.listdir(\"..\\\\spacetimeformer\\\\spacetimeformer\\\\data\\\\stf_LOG_DIR\\\\wandb\\\\\")"
   ]
  },
  {
   "cell_type": "code",
   "execution_count": 124,
   "id": "a6548744",
   "metadata": {},
   "outputs": [
    {
     "name": "stdout",
     "output_type": "stream",
     "text": [
      "run name: lstm_1_day_forecast_cyanochla\n",
      "model used: lstm\n",
      "dataset used: HF_int4\n",
      "fold: 3\n"
     ]
    }
   ],
   "source": [
    "\n",
    "run_names = ['run-20220414_140439-3gftvviu', #fold 4\n",
    "             'run-20220414_143813-1joxekzi', #fold 3\n",
    "             'run-20220414_151324-3kt91dit', #fold 2\n",
    "             'run-20220414_163024-e50mqup8', #fold 1\n",
    "             'run-20220414_143813-1joxekzi'] #fold 0\n",
    "run_name = run_names[1]\n",
    "config_path = \"..\\\\spacetimeformer\\\\spacetimeformer\\\\data\\\\stf_LOG_DIR\\\\wandb\\\\\" + run_name+\"\\\\files\\\\config.yaml\"\n",
    "with open(config_path) as file:\n",
    "    # The FullLoader parameter handles the conversion from YAML\n",
    "    # scalar values to Python the dictionary format\n",
    "    config = yaml.load(file, Loader=yaml.FullLoader)\n",
    "config_pross = {}\n",
    "for key in config:\n",
    "    try:\n",
    "        config_pross[key]=config[key]['value']\n",
    "    except:\n",
    "        config_pross[key]=config[key]\n",
    "config=config_pross\n",
    "print(\"run name: \"+config['run_name'])\n",
    "print(\"model used: \"+config['model'])\n",
    "print(\"dataset used: \"+config['dset'])\n",
    "print(\"fold: \"+str(config['fold_val']))"
   ]
  },
  {
   "cell_type": "code",
   "execution_count": 125,
   "id": "d6b05ed5",
   "metadata": {},
   "outputs": [],
   "source": [
    "#build the dset\n",
    "\n",
    "if config['dset'] =='HF_int' or config['dset'] == 'HF_noint' or config['dset'] == 'HF_int4':\n",
    "    data_path = config['data_path']\n",
    "    date_format = \"%Y-%m-%d %H:%M:%S\"\n",
    "    if data_path == 'auto':\n",
    "        if config['dset'] =='HF_int':\n",
    "            data_path = \"../Datasets/Forecasting_Aqua/data_h_rolling_cst_int.csv\"\n",
    "        if config['dset'] == 'HF_noint':\n",
    "            data_path = \"../Datasets/Forecasting_Aqua/data_h_rolling_v4.csv\"\n",
    "        if config['dset'] == 'HF_int4':\n",
    "            data_path = \"../Datasets/Forecasting_Aqua/data_h_rolling_interpolated_v4.csv\"\n",
    "    df = pd.read_csv(data_path)\n",
    "    target_cols = ['mean_chla_depth','aphanizomenon']\n",
    "    target_cols+=list(df.keys().drop(['Datetime','mean_chla_depth','aphanizomenon']))\n",
    "    NULL_VAL = 0.\n",
    "        \n",
    "dset = stf.data.CSVTimeSeriesV2(\n",
    "    data_path=data_path,\n",
    "    target_cols=target_cols,\n",
    "    date_format = date_format,\n",
    "    nanval = NULL_VAL,\n",
    "    folds = config['folds'],\n",
    "    fold_n = config['fold_val'],\n",
    ")\n",
    "\n",
    "x_dim = 4 if 'HF' in config['dset'] else 3\n",
    "y_dim = len(target_cols)\n",
    "loss_w = torch.zeros(y_dim)\n",
    "loss_w[0] = 1\n",
    "loss_w /=loss_w.sum()\n",
    "\n",
    "#build the model\n",
    "\n",
    "if config['model'] == \"lstm\":\n",
    "    forecaster = stf.lstm_model.LSTM_Forecaster(\n",
    "        # encoder\n",
    "        d_x=x_dim,\n",
    "        d_y=y_dim,\n",
    "        time_emb_dim=config['time_emb_dim'],\n",
    "        hidden_dim=config['hidden_dim'],\n",
    "        n_layers=config['n_layers'],\n",
    "        dropout_p=config['dropout_p'],\n",
    "        # training\n",
    "        learning_rate=config['learning_rate'],\n",
    "        teacher_forcing_prob=config['teacher_forcing_start'],\n",
    "        l2_coeff=config['l2_coeff'],\n",
    "        loss=config['loss'],\n",
    "        linear_window=config['linear_window'],\n",
    "    )\n",
    "else:\n",
    "    print(f\"{config['model']} model not implemented\")\n"
   ]
  },
  {
   "cell_type": "code",
   "execution_count": 126,
   "id": "1ad7f81a",
   "metadata": {},
   "outputs": [
    {
     "data": {
      "text/plain": [
       "['..\\\\spacetimeformer\\\\data\\\\stf_model_checkpoints\\\\lstm_1_day_forecast_cyanochla_946688008\\\\lstm_1_day_forecast_cyanochlaepoch=02-val\\\\loss=2.18.ckpt']"
      ]
     },
     "execution_count": 126,
     "metadata": {},
     "output_type": "execute_result"
    }
   ],
   "source": [
    "#load the checkpoints\n",
    "checkpoints_dir = \"..\\\\spacetimeformer\\\\data\\\\stf_model_checkpoints\\\\\"\n",
    "run_name = config['run_name']\n",
    "salt = \"946\"\n",
    "\n",
    "checkpoints = glob.glob(checkpoints_dir+run_name+\"_\"+salt+\"*\\\\*\\\\*\",recursive=True)\n",
    "if len(checkpoints)>1:\n",
    "    print(\"please add a part of the random number so there is only one result\")\n",
    "checkpoint = checkpoints[0]\n",
    "checkpoints"
   ]
  },
  {
   "cell_type": "code",
   "execution_count": 127,
   "id": "69c2ab39",
   "metadata": {},
   "outputs": [
    {
     "data": {
      "text/plain": [
       "<All keys matched successfully>"
      ]
     },
     "execution_count": 127,
     "metadata": {},
     "output_type": "execute_result"
    }
   ],
   "source": [
    "forecaster.load_state_dict(torch.load(checkpoint)['state_dict'],strict=True)"
   ]
  },
  {
   "cell_type": "code",
   "execution_count": 128,
   "id": "7c3c3a0d",
   "metadata": {},
   "outputs": [
    {
     "data": {
      "image/png": "[encoded data removed]",
      "text/plain": [
       "<Figure size 432x288 with 1 Axes>"
      ]
     },
     "metadata": {
      "needs_background": "light"
     },
     "output_type": "display_data"
    }
   ],
   "source": [
    "key = 'mean_chla_depth'\n",
    "y_train = dset.train_data[key]\n",
    "y_val = dset.val_data[key]\n",
    "y_test = dset.test_data[key]\n",
    "plt.plot(dset.train_data.index,y_train)\n",
    "plt.plot(dset.val_data.index,y_val)\n",
    "plt.plot(dset.test_data.index,y_test)\n",
    "plt.title(f\"Time series for {key}\")\n",
    "plt.legend([\"train data\",\"val data\",\"test data\"])\n",
    "plt.show()"
   ]
  },
  {
   "cell_type": "code",
   "execution_count": 129,
   "id": "ea883d05",
   "metadata": {},
   "outputs": [],
   "source": [
    "#format the dataset into x and y:\n",
    "x_train = (dset.train_data[['Day','Month','Year','Hour']] if 'HF' in config['dset'] \n",
    "           else dset.train_data[['Day','Month','Year']])\n",
    "y_train = dset.train_data[target_cols]\n",
    "\n",
    "x_val = (dset.val_data[['Day','Month','Year','Hour']] if 'HF' in config['dset'] \n",
    "        else dset.val_data[['Day','Month','Year']])\n",
    "y_val = dset.val_data[target_cols]\n",
    "\n",
    "x_test = (dset.test_data[['Day','Month','Year','Hour']] if 'HF' in config['dset'] \n",
    "          else dset.test_data[['Day','Month','Year']])\n",
    "y_test = dset.test_data[target_cols]"
   ]
  },
  {
   "cell_type": "code",
   "execution_count": 130,
   "id": "8685dc7f",
   "metadata": {},
   "outputs": [
    {
     "name": "stdout",
     "output_type": "stream",
     "text": [
      "split: train      \n",
      "split: val      \n",
      "split: test      \n",
      "23/22.46\r"
     ]
    }
   ],
   "source": [
    "#predict all results\n",
    "res = {}\n",
    "true = {}\n",
    "ctx = config['context_points']\n",
    "trg = config['target_points']\n",
    "time_res_ctx = config['time_resolution_ctx']\n",
    "time_res_trg = config['time_resolution_trg']\n",
    "\n",
    "batch_size = 100\n",
    "\n",
    "def generate_batch(list_of_tuple, batch_size):\n",
    "    if batch_size<=0:\n",
    "        return\n",
    "    for i in range(0, len(list_of_tuple), batch_size):\n",
    "        yield (torch.cat([el[0].unsqueeze(0) for el in list_of_tuple[i : i + batch_size]]),\n",
    "               torch.cat([el[1].unsqueeze(0) for el in list_of_tuple[i : i + batch_size]]),\n",
    "               torch.cat([el[2].unsqueeze(0) for el in list_of_tuple[i : i + batch_size]]),\n",
    "               torch.cat([el[3].unsqueeze(0) for el in list_of_tuple[i : i + batch_size]]),\n",
    "              )\n",
    "        \n",
    "        \n",
    "for x,y,split in [(x_train,y_train,'train'),(x_val,y_val,'val'),(x_test,y_test,'test')]:\n",
    "    x = torch.tensor(x.values,dtype=torch.float32)\n",
    "    y = torch.tensor(y.values,dtype=torch.float32)\n",
    "    res[split]=[]\n",
    "    true[split]=[]\n",
    "    print(f\"split: {split}      \")\n",
    "    \n",
    "        \n",
    "    if (len(dset.idxbreaks)==2 or split != 'train'):\n",
    "        slice_start = [i for i in range(0,\n",
    "                                       (dset.length(split)\n",
    "                                       - time_res_trg * trg\n",
    "                                       - time_res_ctx * ctx),\n",
    "                                       )\n",
    "                                ]\n",
    "    else:\n",
    "        slice_start = [i for i in range(0,\n",
    "                                       (dset.idxbreaks[0]\n",
    "                                       - time_res_trg * trg\n",
    "                                       - time_res_ctx * ctx),\n",
    "                                       )\n",
    "                                ]\n",
    "        slice_start+= [i for i in range(dset.idxbreaks[0],\n",
    "                                       (dset.length(split)\n",
    "                                       - time_res_trg * trg\n",
    "                                       - time_res_ctx * ctx),\n",
    "                                       )\n",
    "                                ]\n",
    "    #build slices:\n",
    "    input_list = []\n",
    "    for idx in slice_start:\n",
    "        x_ctx = x[idx:idx+ctx*time_res_ctx:time_res_ctx]\n",
    "        x_trg = x[idx+ctx*time_res_ctx + time_res_trg-time_res_ctx :\n",
    "                  idx+ctx*time_res_ctx + time_res_trg-time_res_ctx + trg*time_res_trg:\n",
    "                  time_res_trg]\n",
    "        y_ctx = y[idx:idx+ctx*time_res_ctx:time_res_ctx]\n",
    "        y_trg = y[idx+ctx*time_res_ctx + time_res_trg-time_res_ctx :\n",
    "                  idx+ctx*time_res_ctx + time_res_trg-time_res_ctx + trg*time_res_trg:\n",
    "                  time_res_trg]\n",
    "        input_list.append((x_ctx,y_ctx,x_trg,y_trg))\n",
    "        \n",
    "    gen = generate_batch(input_list, batch_size)\n",
    "    \n",
    "    for idx,(x_ctx,y_ctx,x_trg,y_trg) in enumerate(gen):\n",
    "        print(f\"{idx+1}/{len(input_list)/batch_size}\",end='\\r')\n",
    "        with torch.no_grad():\n",
    "            res_idx,*class_res=forecaster(x_ctx,y_ctx,x_trg,y_trg,**forecaster.eval_step_forward_kwargs)\n",
    "            if isinstance(res_idx,Normal):\n",
    "                res[split].append(res_idx.loc.squeeze())\n",
    "            else:\n",
    "                res[split].append(res_idx)\n",
    "                true[split].append(y_trg)\n"
   ]
  },
  {
   "cell_type": "code",
   "execution_count": 131,
   "id": "aca0aa2c",
   "metadata": {},
   "outputs": [],
   "source": [
    "# only keep the usefull columns:\n",
    "\n",
    "for split in ['train','val','test']:\n",
    "    res_target[split]= torch.cat(res[split])[:,:,:len(config['loss_w'])]\n",
    "    true_target[split]=torch.cat(true[split])[:,:,:len(config['loss_w'])]"
   ]
  },
  {
   "cell_type": "code",
   "execution_count": 144,
   "id": "4320ee0b",
   "metadata": {},
   "outputs": [
    {
     "data": {
      "text/plain": [
       "[14205, 18939, 23674]"
      ]
     },
     "execution_count": 144,
     "metadata": {},
     "output_type": "execute_result"
    }
   ],
   "source": [
    "dset.idxbreaks"
   ]
  },
  {
   "cell_type": "code",
   "execution_count": 245,
   "id": "649bee30",
   "metadata": {},
   "outputs": [
    {
     "data": {
      "text/plain": [
       "(14205,)"
      ]
     },
     "execution_count": 245,
     "metadata": {},
     "output_type": "execute_result"
    }
   ],
   "source": [
    "data.index[:dset.idxbreaks[0]].shape"
   ]
  },
  {
   "cell_type": "code",
   "execution_count": 246,
   "id": "6082ad7d",
   "metadata": {},
   "outputs": [
    {
     "data": {
      "text/plain": [
       "torch.Size([13821])"
      ]
     },
     "execution_count": 246,
     "metadata": {},
     "output_type": "execute_result"
    }
   ],
   "source": [
    "true_target[split][:dset.idxbreaks[0]-((ctx-1)*time_res_ctx+time_res_trg)-1,0,idx].shape"
   ]
  },
  {
   "cell_type": "code",
   "execution_count": 288,
   "id": "2a708c39",
   "metadata": {},
   "outputs": [],
   "source": [
    "lag = (ctx-1)*time_res_ctx+trg*time_res_trg+1"
   ]
  },
  {
   "cell_type": "code",
   "execution_count": 294,
   "id": "b186d247",
   "metadata": {},
   "outputs": [
    {
     "name": "stdout",
     "output_type": "stream",
     "text": [
      "False\n"
     ]
    },
    {
     "data": {
      "image/png": "[encoded data removed]",
      "text/plain": [
       "<Figure size 432x288 with 1 Axes>"
      ]
     },
     "metadata": {
      "needs_background": "light"
     },
     "output_type": "display_data"
    }
   ],
   "source": [
    "#for prediction:\n",
    "key = 'mean_chla_depth'\n",
    "idx = target_cols.index(key)\n",
    "ctx = config['context_points']\n",
    "for data,split in zip([dset.train_data],['train']):#([dset.train_data,dset.val_data,dset.test_data],['train','val','test']):\n",
    "    if split == 'train':\n",
    "        plt.plot(data.index[lag:dset.idxbreaks[0]],true_target[split][:dset.idxbreaks[0]-lag,0,idx])#[:dset.idxbreaks[0]+200-((ctx-1)*time_res_ctx+time_res_trg)-1,0,idx])\n",
    "        plt.plot(data.index[lag+dset.idxbreaks[0]:dset.idxbreaks[1]+true_target[split].shape[0]],true_target[split][dset.idxbreaks[0]-lag:,0,idx])\n",
    "    #plt.scatter((data.index+2*((ctx-1)*time_res_ctx+time_res_trg))[dset.idxbreaks[0]-((ctx-1)*time_res_ctx+time_res_trg)-1:true_target[split].shape[0]],\n",
    "       #              true_target[split][dset.idxbreaks[0]-((ctx-1)*time_res_ctx+time_res_trg)-1:,0,idx],s=1)\n",
    "    plt.scatter(data.index,data[key],s=1,c='k')\n",
    "    #plt.scatter(dset.val_data.index,dset.val_data[key],s=1)\n",
    "    \n",
    "    #plt.scatter((data.index+(ctx-1)*time_res_ctx+time_res_trg)[:len(res_target[split])],res_target[split][:,0,idx],s=1)\n",
    "    #plt.scatter((data.index+(ctx-1)*time_res_ctx+time_res_trg)[:len(res_target[split])],true_target[split][:,0,idx],s=1)\n",
    "    print((true_target[split][:,0,idx]==data[key]).any())"
   ]
  },
  {
   "cell_type": "code",
   "execution_count": 198,
   "id": "a7bea399",
   "metadata": {},
   "outputs": [
    {
     "ename": "IndexError",
     "evalue": "index 20000 is out of bounds for axis 0 with size 18172",
     "output_type": "error",
     "traceback": [
      "\u001b[1;31m---------------------------------------------------------------------------\u001b[0m",
      "\u001b[1;31mIndexError\u001b[0m                                Traceback (most recent call last)",
      "Input \u001b[1;32mIn [198]\u001b[0m, in \u001b[0;36m<module>\u001b[1;34m\u001b[0m\n\u001b[1;32m----> 1\u001b[0m \u001b[38;5;28mprint\u001b[39m(\u001b[43mtrue_target\u001b[49m\u001b[43m[\u001b[49m\u001b[43msplit\u001b[49m\u001b[43m]\u001b[49m\u001b[43m[\u001b[49m\u001b[43m:\u001b[49m\u001b[43m,\u001b[49m\u001b[38;5;241;43m0\u001b[39;49m\u001b[43m,\u001b[49m\u001b[43midx\u001b[49m\u001b[43m]\u001b[49m\u001b[38;5;241;43m.\u001b[39;49m\u001b[43mnumpy\u001b[49m\u001b[43m(\u001b[49m\u001b[43m)\u001b[49m\u001b[43m[\u001b[49m\u001b[38;5;241;43m20000\u001b[39;49m\u001b[43m]\u001b[49m)\n\u001b[0;32m      2\u001b[0m \u001b[38;5;28mprint\u001b[39m(dset\u001b[38;5;241m.\u001b[39mtrain_data[key]\u001b[38;5;241m.\u001b[39mindex[\u001b[38;5;241m20000\u001b[39m\u001b[38;5;241m+\u001b[39m\u001b[38;5;241m360\u001b[39m\u001b[38;5;241m+\u001b[39m\u001b[38;5;241m23\u001b[39m])\n",
      "\u001b[1;31mIndexError\u001b[0m: index 20000 is out of bounds for axis 0 with size 18172"
     ]
    }
   ],
   "source": [
    "print(true_target[split][:,0,idx].numpy()[20000])"
   ]
  },
  {
   "cell_type": "code",
   "execution_count": 210,
   "id": "506b96f8",
   "metadata": {},
   "outputs": [
    {
     "data": {
      "text/plain": [
       "[14205, 18939, 23674]"
      ]
     },
     "execution_count": 210,
     "metadata": {},
     "output_type": "execute_result"
    }
   ],
   "source": [
    "dset.idxbreaks"
   ]
  },
  {
   "cell_type": "code",
   "execution_count": 219,
   "id": "685e0da7",
   "metadata": {},
   "outputs": [
    {
     "data": {
      "text/plain": [
       "14200   2020-08-14 16:00:00\n",
       "14201   2020-08-14 17:00:00\n",
       "14202   2020-08-14 18:00:00\n",
       "14203   2020-08-14 19:00:00\n",
       "14204   2020-08-14 20:00:00\n",
       "18939   2021-02-28 03:00:00\n",
       "18940   2021-02-28 04:00:00\n",
       "18941   2021-02-28 05:00:00\n",
       "18942   2021-02-28 06:00:00\n",
       "18943   2021-02-28 07:00:00\n",
       "Name: Datetime, dtype: datetime64[ns]"
      ]
     },
     "execution_count": 219,
     "metadata": {},
     "output_type": "execute_result"
    }
   ],
   "source": [
    "dset.train_data['Datetime'][14200:14210]"
   ]
  },
  {
   "cell_type": "code",
   "execution_count": 207,
   "id": "a10b9887",
   "metadata": {},
   "outputs": [
    {
     "data": {
      "text/plain": [
       "-1"
      ]
     },
     "execution_count": 207,
     "metadata": {},
     "output_type": "execute_result"
    }
   ],
   "source": [
    "767-(360+24)*2"
   ]
  },
  {
   "cell_type": "code",
   "execution_count": 216,
   "id": "ccc7ed4d",
   "metadata": {},
   "outputs": [
    {
     "data": {
      "text/plain": [
       "array([383], dtype=int64)"
      ]
     },
     "execution_count": 216,
     "metadata": {},
     "output_type": "execute_result"
    }
   ],
   "source": [
    "np.where(np.abs(dset.train_data[key]-true_target['train'][:,0,idx].numpy()[12203])<0.000001)[0]-12203\n"
   ]
  },
  {
   "cell_type": "code",
   "execution_count": 133,
   "id": "43f50382",
   "metadata": {},
   "outputs": [
    {
     "name": "stdout",
     "output_type": "stream",
     "text": [
      "Score for mean_chla_depth\n",
      "Nash score for the train: 0.7357989549636841\n",
      "Nash score for the val: 0.9215846061706543\n",
      "Nash score for the test: 0.4900128245353699\n",
      "Score for aphanizomenon\n",
      "Nash score for the train: 0.22763973474502563\n",
      "Nash score for the val: -27.33074378967285\n",
      "Nash score for the test: -747.2824096679688\n"
     ]
    }
   ],
   "source": [
    "#R2:\n",
    "keys= ['mean_chla_depth','aphanizomenon']\n",
    "\n",
    "for key in keys:\n",
    "    idx = target_cols.index(key)\n",
    "    print(f\"Score for {key}\")\n",
    "    for split in ['train','val','test']:\n",
    "        r2 =1-(torch.sum(torch.square(true_target[split][...,idx]-res_target[split][...,idx]))/\n",
    "               torch.sum(torch.square(true_target[split][...,idx]-true_target[split][...,idx].mean())))\n",
    "        print(f\"Nash score for the {split}: {r2}\")"
   ]
  },
  {
   "cell_type": "markdown",
   "id": "f3e34945",
   "metadata": {},
   "source": [
    "## K-Fold validation:"
   ]
  },
  {
   "cell_type": "code",
   "execution_count": 100,
   "id": "9df3c9bf",
   "metadata": {},
   "outputs": [
    {
     "name": "stdout",
     "output_type": "stream",
     "text": [
      "run name: lstm_1_day_forecast_cyanochla\n",
      "model used: lstm\n",
      "dataset used: HF_int4\n",
      "fold: 4\n",
      "split: val      \n",
      "split: test      \n",
      "run name: lstm_1_day_forecast_cyanochla\n",
      "model used: lstm\n",
      "dataset used: HF_int4\n",
      "fold: 3\n",
      "split: val      \n",
      "split: test      \n",
      "run name: lstm_1_day_forecast_cyanochla\n",
      "model used: lstm\n",
      "dataset used: HF_int4\n",
      "fold: 2\n",
      "split: val      \n",
      "split: test      \n",
      "run name: lstm_1_day_forecast_cyanochla\n",
      "model used: lstm\n",
      "dataset used: HF_int4\n",
      "fold: 1\n",
      "split: val      \n",
      "split: test      \n",
      "run name: lstm_1_day_forecast_cyanochla\n",
      "model used: lstm\n",
      "dataset used: HF_int4\n",
      "fold: 3\n",
      "split: val      \n",
      "split: test      \n",
      "23/22.46\r"
     ]
    }
   ],
   "source": [
    "res_fold = []\n",
    "true_fold = []\n",
    "for run in run_names:\n",
    "    config_path = \"..\\\\spacetimeformer\\\\spacetimeformer\\\\data\\\\stf_LOG_DIR\\\\wandb\\\\\" + run+\"\\\\files\\\\config.yaml\"\n",
    "    with open(config_path) as file:\n",
    "        # The FullLoader parameter handles the conversion from YAML\n",
    "        # scalar values to Python the dictionary format\n",
    "        config = yaml.load(file, Loader=yaml.FullLoader)\n",
    "    config_pross = {}\n",
    "    for key in config:\n",
    "        try:\n",
    "            config_pross[key]=config[key]['value']\n",
    "        except:\n",
    "            config_pross[key]=config[key]\n",
    "    config=config_pross\n",
    "    print(\"run name: \"+config['run_name'])\n",
    "    print(\"model used: \"+config['model'])\n",
    "    print(\"dataset used: \"+config['dset'])\n",
    "    print(\"fold: \"+str(config['fold_val']))\n",
    "    \n",
    "    \n",
    "    #rebuild the dataset for each fold\n",
    "    if config['dset'] =='HF_int' or config['dset'] == 'HF_noint' or config['dset'] == 'HF_int4':\n",
    "        data_path = config['data_path']\n",
    "        date_format = \"%Y-%m-%d %H:%M:%S\"\n",
    "        if data_path == 'auto':\n",
    "            if config['dset'] =='HF_int':\n",
    "                data_path = \"../Datasets/Forecasting_Aqua/data_h_rolling_cst_int.csv\"\n",
    "            if config['dset'] == 'HF_noint':\n",
    "                data_path = \"../Datasets/Forecasting_Aqua/data_h_rolling_v4.csv\"\n",
    "            if config['dset'] == 'HF_int4':\n",
    "                data_path = \"../Datasets/Forecasting_Aqua/data_h_rolling_interpolated_v4.csv\"\n",
    "        df = pd.read_csv(data_path)\n",
    "        target_cols = ['mean_chla_depth','aphanizomenon']\n",
    "        target_cols+=list(df.keys().drop(['Datetime','mean_chla_depth','aphanizomenon']))\n",
    "        NULL_VAL = 0.\n",
    "\n",
    "    dset = stf.data.CSVTimeSeriesV2(\n",
    "        data_path=data_path,\n",
    "        target_cols=target_cols,\n",
    "        date_format = date_format,\n",
    "        nanval = NULL_VAL,\n",
    "        folds = config['folds'],\n",
    "        fold_n = config['fold_val'],\n",
    "    )\n",
    "    # use the same model as previously defined,and\n",
    "    #load the checkpoints\n",
    "    checkpoints_dir = \"..\\\\spacetimeformer\\\\data\\\\stf_model_checkpoints\\\\\"\n",
    "    run_name = config['run_name']\n",
    "    salt = \"\"\n",
    "\n",
    "    checkpoints = glob.glob(checkpoints_dir+run_name+\"_\"+salt+\"*\\\\*\\\\*\",recursive=True)\n",
    "    checkpoint = checkpoints[config['folds']-config['fold_val']-1]\n",
    "    forecaster.load_state_dict(torch.load(checkpoint)['state_dict'],strict=True)\n",
    "    \n",
    "    #format the dataset into x and y:\n",
    "    x_val = (dset.val_data[['Day','Month','Year','Hour']] if 'HF' in config['dset'] \n",
    "            else dset.val_data[['Day','Month','Year']])\n",
    "    y_val = dset.val_data[target_cols]\n",
    "\n",
    "    x_test = (dset.test_data[['Day','Month','Year','Hour']] if 'HF' in config['dset'] \n",
    "              else dset.test_data[['Day','Month','Year']])\n",
    "    y_test = dset.test_data[target_cols]\n",
    "    \n",
    "    \n",
    "    #predict all results\n",
    "    res = {}\n",
    "    true = {}\n",
    "    ctx = config['context_points']\n",
    "    trg = config['target_points']\n",
    "    time_res_ctx = config['time_resolution_ctx']\n",
    "    time_res_trg = config['time_resolution_trg']\n",
    "\n",
    "    batch_size = 100\n",
    "    \n",
    "    for x,y,split in [(x_val,y_val,'val'),(x_test,y_test,'test')]:\n",
    "        x = torch.tensor(x.values,dtype=torch.float32)\n",
    "        y = torch.tensor(y.values,dtype=torch.float32)\n",
    "        res[split]=[]\n",
    "        true[split]=[]\n",
    "        print(f\"split: {split}      \")\n",
    "\n",
    "\n",
    "        slice_start = [i for i in range(0,\n",
    "                                       (dset.length(split)\n",
    "                                       - time_res_trg * trg\n",
    "                                       - time_res_ctx * ctx),\n",
    "                                       )\n",
    "                                ]\n",
    "\n",
    "        #build slices:\n",
    "        input_list = []\n",
    "        for idx in slice_start:\n",
    "            x_ctx = x[idx:idx+ctx*time_res_ctx:time_res_ctx]\n",
    "            x_trg = x[idx+ctx*time_res_ctx + time_res_trg-time_res_ctx :\n",
    "                      idx+ctx*time_res_ctx + time_res_trg-time_res_ctx + trg*time_res_trg:\n",
    "                      time_res_trg]\n",
    "            y_ctx = y[idx:idx+ctx*time_res_ctx:time_res_ctx]\n",
    "            y_trg = y[idx+ctx*time_res_ctx + time_res_trg-time_res_ctx :\n",
    "                      idx+ctx*time_res_ctx + time_res_trg-time_res_ctx + trg*time_res_trg:\n",
    "                      time_res_trg]\n",
    "            input_list.append((x_ctx,y_ctx,x_trg,y_trg))\n",
    "\n",
    "        gen = generate_batch(input_list, batch_size)\n",
    "\n",
    "        for idx,(x_ctx,y_ctx,x_trg,y_trg) in enumerate(gen):\n",
    "            print(f\"{idx+1}/{len(input_list)/batch_size}\",end='\\r')\n",
    "            with torch.no_grad():\n",
    "                res_idx,*class_res=forecaster(x_ctx,y_ctx,x_trg,y_trg,**forecaster.eval_step_forward_kwargs)\n",
    "                if isinstance(res_idx,Normal):\n",
    "                    res[split].append(res_idx.loc.squeeze())\n",
    "                else:\n",
    "                    res[split].append(res_idx)\n",
    "                    true[split].append(y_trg)\n",
    "    res_fold.append(res)\n",
    "    true_fold.append(res)"
   ]
  },
  {
   "cell_type": "code",
   "execution_count": 106,
   "id": "8d1a4c00",
   "metadata": {
    "scrolled": true
   },
   "outputs": [
    {
     "data": {
      "image/png": "[encoded data removed]",
      "text/plain": [
       "<Figure size 432x288 with 1 Axes>"
      ]
     },
     "metadata": {
      "needs_background": "light"
     },
     "output_type": "display_data"
    },
    {
     "data": {
      "image/png": "[encoded data removed]",
      "text/plain": [
       "<Figure size 432x288 with 1 Axes>"
      ]
     },
     "metadata": {
      "needs_background": "light"
     },
     "output_type": "display_data"
    },
    {
     "data": {
      "image/png": "[encoded data removed]",
      "text/plain": [
       "<Figure size 432x288 with 1 Axes>"
      ]
     },
     "metadata": {
      "needs_background": "light"
     },
     "output_type": "display_data"
    },
    {
     "data": {
      "image/png": "[encoded data removed]",
      "text/plain": [
       "<Figure size 432x288 with 1 Axes>"
      ]
     },
     "metadata": {
      "needs_background": "light"
     },
     "output_type": "display_data"
    },
    {
     "data": {
      "image/png": "[encoded data removed]",
      "text/plain": [
       "<Figure size 432x288 with 1 Axes>"
      ]
     },
     "metadata": {
      "needs_background": "light"
     },
     "output_type": "display_data"
    }
   ],
   "source": [
    "idx = 1\n",
    "for res,true in zip(res_fold,true_fold):\n",
    "    for split in ['val','test']:\n",
    "        res_target[split]= torch.cat(res[split])[:,:,:len(config['loss_w'])]\n",
    "        true_target[split]=torch.cat(true[split])[:,:,:len(config['loss_w'])]\n",
    "    \n",
    "    plt.plot(true_target['val'][:,0,idx])\n",
    "    plt.plot(res_target['val'][:,0,idx])\n",
    "    plt.show()"
   ]
  },
  {
   "cell_type": "code",
   "execution_count": 109,
   "id": "8fa87a18",
   "metadata": {},
   "outputs": [
    {
     "name": "stdout",
     "output_type": "stream",
     "text": [
      "Score for mean_chla_depth\n",
      "Nash score for the val: 1.0\n",
      "Nash score for the test: 1.0\n",
      "Nash score for the val: 1.0\n",
      "Nash score for the test: 1.0\n",
      "Nash score for the val: 1.0\n",
      "Nash score for the test: 1.0\n",
      "Nash score for the val: 1.0\n",
      "Nash score for the test: 1.0\n",
      "Nash score for the val: 1.0\n",
      "Nash score for the test: 1.0\n",
      "Score for aphanizomenon\n",
      "Nash score for the val: 1.0\n",
      "Nash score for the test: 1.0\n",
      "Nash score for the val: 1.0\n",
      "Nash score for the test: 1.0\n",
      "Nash score for the val: 1.0\n",
      "Nash score for the test: 1.0\n",
      "Nash score for the val: 1.0\n",
      "Nash score for the test: 1.0\n",
      "Nash score for the val: 1.0\n",
      "Nash score for the test: 1.0\n"
     ]
    }
   ],
   "source": [
    "keys= ['mean_chla_depth','aphanizomenon']\n",
    "\n",
    "for key in keys:\n",
    "    idx = target_cols.index(key)\n",
    "    print(f\"Score for {key}\")\n",
    "    for res,true in zip(res_fold,true_fold):\n",
    "        for split in ['val','test']:\n",
    "            res_target[split]= torch.cat(res[split])[:,:,:len(config['loss_w'])]\n",
    "            true_target[split]=torch.cat(true[split])[:,:,:len(config['loss_w'])]\n",
    "            r2 =1-(torch.sum(torch.square(true_target[split][...,idx]-res_target[split][...,idx]))/\n",
    "                   torch.sum(torch.square(true_target[split][...,idx]-true_target[split][...,idx].mean())))\n",
    "            print(f\"Nash score for the {split}: {r2}\")"
   ]
  },
  {
   "cell_type": "code",
   "execution_count": null,
   "id": "b95ba07b",
   "metadata": {},
   "outputs": [],
   "source": []
  }
 ],
 "metadata": {
  "kernelspec": {
   "display_name": "Python 3 (ipykernel)",
   "language": "python",
   "name": "python3"
  },
  "language_info": {
   "codemirror_mode": {
    "name": "ipython",
    "version": 3
   },
   "file_extension": ".py",
   "mimetype": "text/x-python",
   "name": "python",
   "nbconvert_exporter": "python",
   "pygments_lexer": "ipython3",
   "version": "3.8.0"
  }
 },
 "nbformat": 4,
 "nbformat_minor": 5
}
