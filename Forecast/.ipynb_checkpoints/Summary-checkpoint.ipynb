{
 "cells": [
  {
   "cell_type": "markdown",
   "id": "bbb364de",
   "metadata": {},
   "source": [
    "# Data analysis and forecasting progress\n",
    "\n",
    "In this document, the preliminary results of the analysis of the data will be presented, followed by a few early trials of models to try and predict the evolution of some variables, up to one month in advance.\n",
    "\n",
    "This notebook is interactive: when some code is present between the text, feel free to run it by pressing Shift+Enter and change the parameters at the top"
   ]
  },
  {
   "cell_type": "code",
   "execution_count": 2,
   "id": "3ea37815",
   "metadata": {},
   "outputs": [
    {
     "name": "stdout",
     "output_type": "stream",
     "text": [
      "You have now loaded the libraries\n"
     ]
    }
   ],
   "source": [
    "import pandas as pd\n",
    "import matplotlib.pyplot as plt\n",
    "import numpy as np\n",
    "\n",
    "\n",
    "data_path = \"..\\\\Datasets\\\\Forecasting_aqua\\\\ctd_meteo_aua_2019to2021_V2.csv\"\n",
    "format = \"%d-%m-%Y\"\n",
    "df = pd.read_csv(data_path)\n",
    "time_df = pd.to_datetime(df[\"Datetime\"], format=format)\n",
    "try:\n",
    "    df.drop(\"sample\",axis=1,inplace=True)\n",
    "except:\n",
    "    pass\n",
    "df['Datetime']= time_df\n",
    "print(\"You have now loaded the libraries and the data\")"
   ]
  },
  {
   "cell_type": "markdown",
   "id": "e8bc3e2c",
   "metadata": {},
   "source": [
    "## Data \n",
    "The data used to forecast the blooms is an aggregation of different sources, covering the years 2019 to 2021. In total, this set contain 101 different variables, most of them taken at a high frequency, but averaged on a daily basis. The exception to this rule is the nutrients concentrations, which are taken weekly. The code below allows you to visualize any of these time series."
   ]
  },
  {
   "cell_type": "code",
   "execution_count": null,
   "id": "11bb944e",
   "metadata": {},
   "outputs": [],
   "source": []
  }
 ],
 "metadata": {
  "kernelspec": {
   "display_name": "Python 3 (ipykernel)",
   "language": "python",
   "name": "python3"
  },
  "language_info": {
   "codemirror_mode": {
    "name": "ipython",
    "version": 3
   },
   "file_extension": ".py",
   "mimetype": "text/x-python",
   "name": "python",
   "nbconvert_exporter": "python",
   "pygments_lexer": "ipython3",
   "version": "3.8.0"
  }
 },
 "nbformat": 4,
 "nbformat_minor": 5
}
