{
 "cells": [
  {
   "cell_type": "markdown",
   "id": "862b62e0",
   "metadata": {},
   "source": [
    "# Baseline models\n",
    "Several models were designed as baseline: \n",
    "- Copy-Paste: Copy the latest data\n",
    "- Markovian: Use all of the data from the previous day\n",
    "- Non-Markovian: Use all the data up to the decorrelation time"
   ]
  },
  {
   "cell_type": "code",
   "execution_count": 1,
   "id": "07c23a11",
   "metadata": {},
   "outputs": [],
   "source": [
    "#import useful libraries\n",
    "import importlib\n",
    "import os\n",
    "import sys\n",
    "import matplotlib.pyplot as plt\n",
    "import numpy as np\n",
    "import pandas as pd\n",
    "from scipy import signal\n",
    "from scipy import sparse\n",
    "stf_dir = os.path.join(os.pardir, 'spacetimeformer')\n",
    "sys.path.append(stf_dir)\n",
    "#from spacetimeformer import data\n",
    "#importlib.reload(data) #to make sure the last version of stf is used"
   ]
  },
  {
   "cell_type": "code",
   "execution_count": 2,
   "id": "bba5aba9",
   "metadata": {},
   "outputs": [
    {
     "data": {
      "text/plain": [
       "<__main__.forecaster at 0x24994e05940>"
      ]
     },
     "execution_count": 2,
     "metadata": {},
     "output_type": "execute_result"
    }
   ],
   "source": [
    "#delete if not used by Thursday\n",
    "class forecaster():\n",
    "    def __init__(self,model,dset,target,lag):\n",
    "        assert(model in ['CP','Mark','NMark','LSTM'])\n",
    "        assert(dset in ['full','selected'])\n",
    "        assert(target in ['chla','clusters','chcy'])\n",
    "                \n",
    "        \n",
    "    def fit(self,x_t,y_t):\n",
    "        return\n",
    "    def score(self,x_v,y_v):\n",
    "        return\n",
    "    \n",
    "            \n",
    "forecaster('CP','selected','chla',1)"
   ]
  },
  {
   "cell_type": "code",
   "execution_count": 3,
   "id": "f2f42dfd",
   "metadata": {},
   "outputs": [],
   "source": [
    "#load the dataset\n",
    "data_path = \"..\\\\Datasets\\\\Forecasting_aqua\\\\data_h_rolling_cst_int_v4.csv\"\n",
    "format = \"%Y-%m-%d %H:%M:%S\"\n",
    "df = pd.read_csv(data_path)\n",
    "time_df = pd.to_datetime(df[\"Datetime\"], format=format)\n",
    "try:\n",
    "    df.drop(\"sample\",axis=1,inplace=True)\n",
    "except:\n",
    "    pass\n",
    "df['Datetime']= time_df\n",
    "#According to the work of Stefanie Merkly, these keys were more important than the others to predict chorophill a\n",
    "keys_imp = ['ciliate','mean_chla','cv_chla_day','cv_chla_depth',\n",
    "            'nauplius','Ammonium','Nitrat','mean_schmidt','windspeed_max',\n",
    "            'mean_thermocline_depth','mean_epi_temp','mean_oxycline_depth',\n",
    "            'mean_mixed_layer_depth','mean_global_radiation'\n",
    "           ]\n",
    "#add some usefull variables at the end of the table\n",
    "df['year'] = df['Datetime'].dt.year\n",
    "df['month'] = df['Datetime'].dt.month\n",
    "df['day'] = df['Datetime'].dt.day\n",
    "\n",
    "#drop the first datapoints the first months are only meteorological data\n",
    "first_point = (~df['diatom'].isnull()).idxmax()\n",
    "dfs = df.drop(index=range(first_point))\n",
    "df = dfs.reset_index(drop=True)"
   ]
  },
  {
   "cell_type": "code",
   "execution_count": 4,
   "id": "8e57ddf2",
   "metadata": {},
   "outputs": [],
   "source": [
    "def score(y_true,y_pred):\n",
    "    R2 = 1-np.sum(np.square(y_true-y_pred))/np.sum(np.square(y_true-np.mean(y_true,axis=0)))\n",
    "    MAEn = 1-np.sum(np.abs(y_true-y_pred))/np.sum(np.abs(y_true-np.mean(y_true,axis=0)))\n",
    "    return {'R2':R2,'MAEn':MAEn}"
   ]
  },
  {
   "cell_type": "code",
   "execution_count": 5,
   "id": "898b52f3",
   "metadata": {},
   "outputs": [],
   "source": [
    "def kfold(model,input_tv,n_fold,input_test,target_tv,target_test):\n",
    "    breakpoints = np.linspace(0,len(input_tv),n_fold+1,dtype=int)\n",
    "    res = []\n",
    "    for fold in range(n_fold):\n",
    "        input_v = input_tv[breakpoints[fold]:breakpoints[fold+1]]\n",
    "        y_v  = target_tv[breakpoints[fold]:breakpoints[fold+1]]\n",
    "        input_t = pd.concat([input_tv[:breakpoints[fold]],input_tv[breakpoints[fold+1]:]])\n",
    "        y_tr = pd.concat([target_tv[:breakpoints[fold]],target_tv[breakpoints[fold+1]:]])\n",
    "        model.fit(input_t,y_tr,breakpoints[fold])\n",
    "        y_predtr = model.pred(input_t)\n",
    "        y_predv = model.pred(input_v)\n",
    "        y_predte = model.pred(input_test)\n",
    "        \n",
    "        s_train = score(y_tr.to_numpy(),y_predtr)\n",
    "        s_val = score(y_v.to_numpy(),y_predv)\n",
    "        s_test = score(target_test.to_numpy(),y_predte)\n",
    "        res.append({'fold':fold,'bp': breakpoints, 'y_predv':y_predv,'s_train':s_train,'s_val':s_val,'s_test':s_test})\n",
    "    return res"
   ]
  },
  {
   "cell_type": "code",
   "execution_count": 6,
   "id": "193651f0",
   "metadata": {},
   "outputs": [
    {
     "ename": "SyntaxError",
     "evalue": "invalid syntax (1551012885.py, line 61)",
     "output_type": "error",
     "traceback": [
      "\u001b[1;36m  Input \u001b[1;32mIn [6]\u001b[1;36m\u001b[0m\n\u001b[1;33m    for\u001b[0m\n\u001b[1;37m        ^\u001b[0m\n\u001b[1;31mSyntaxError\u001b[0m\u001b[1;31m:\u001b[0m invalid syntax\n"
     ]
    }
   ],
   "source": [
    "class CP_model:\n",
    "    def __init__(self,target_keys:list):\n",
    "        self.targets = target_keys\n",
    "    def fit(self,inputs,targets,breakpoints):\n",
    "        return\n",
    "    def pred(self,inputs):\n",
    "        return inputs[self.targets].to_numpy()\n",
    "class Markov_model:\n",
    "    def __init__(self,target_keys:list, inputs_keys:list,norm=True):\n",
    "        from sklearn.linear_model import LinearRegression\n",
    "        from sklearn.preprocessing import StandardScaler\n",
    "        self.skmodel = LinearRegression()\n",
    "        if norm:\n",
    "            self._scalerin = StandardScaler()\n",
    "            self._scalerout = StandardScaler()\n",
    "    def fit(self,inputs,target,breakpoints):\n",
    "        inputs = inputs.drop(columns=['Datetime'],errors='ignore')\n",
    "        self._scalerin = self._scalerin.fit(inputs.values)\n",
    "        self._scalerout = self._scalerout.fit(target.values)\n",
    "        ninp = self._scalerin.transform(inputs.values)\n",
    "        #fill nans with 0s\n",
    "        ninp = np.nan_to_num(ninp)\n",
    "        ntar = self._scalerout.transform(target.values)\n",
    "        self.skmodel.fit(ninp,ntar)\n",
    "    def pred(self,inputs):\n",
    "        inputs = inputs.drop(columns=['Datetime'],errors='ignore')\n",
    "        ninp = self._scalerin.transform(inputs.values)\n",
    "        ninp = np.nan_to_num(ninp)\n",
    "        npred = self.skmodel.predict(ninp)\n",
    "        return self._scalerout.inverse_transform(npred)\n",
    "    \n",
    "\n",
    "class NONMarkov_model:\n",
    "    def __init__(self,target_keys:list, inputs_keys:list,norm=True,cor_th = 0.2):\n",
    "        from sklearn.linear_model import LinearRegression\n",
    "        from sklearn.preprocessing import StandardScaler\n",
    "        #get the decorrelation time\n",
    "        self.skmodel = LinearRegression()\n",
    "        self.target_keys = target_keys\n",
    "        if norm:\n",
    "            self._scalerin = StandardScaler()\n",
    "            self._scalerout = StandardScaler()\n",
    "        self.cor_th = cor_th\n",
    "            \n",
    "            \n",
    "    def fit(self,inputs,targets,breakpoints):\n",
    "        \n",
    "        inputs = inputs.set(columns=['Datetime'],errors='ignore')\n",
    "        #fill the validation fold with 0:\n",
    "        \n",
    "        self._scalerin = self._scalerin.fit(inputs.values)\n",
    "        self._scalerout = self._scalerout.fit(targets.values)\n",
    "        ninp = self._scalerin.transform(inputs.values)\n",
    "        #fill nans with 0s\n",
    "        ninp = np.nan_to_num(ninp)\n",
    "        ntar = self._scalerout.transform(targets.values)\n",
    "        ntar = np.nan_to_num(ntar)\n",
    "        #process each out key separatly:\n",
    "        for target in self.target_keys:\n",
    "            target_crosscor \n",
    "            for \n",
    "        \n",
    "        signal.correlate(dfci[key],dfci[key], mode='full')\n",
    "        \n",
    "        \n",
    "        \n",
    "        \n",
    "        \n",
    "        \n",
    "        self.skmodel.fit(ninp,ntar)\n",
    "    def pred(self,inputs):\n",
    "        inputs = inputs.drop(columns=['Datetime'],errors='ignore')\n",
    "        ninp = self._scalerin.transform(inputs.values)\n",
    "        ninp = np.nan_to_num(ninp)\n",
    "        npred = self.skmodel.predict(ninp)\n",
    "        return self._scalerout.inverse_transform(npred)"
   ]
  },
  {
   "cell_type": "code",
   "execution_count": 7,
   "id": "af131c58",
   "metadata": {},
   "outputs": [],
   "source": [
    "#init:\n",
    "from sklearn.linear_model import LinearRegression\n",
    "from sklearn.preprocessing import StandardScaler\n",
    "scalerin = StandardScaler()\n",
    "scalerout = StandardScaler()"
   ]
  },
  {
   "cell_type": "code",
   "execution_count": 8,
   "id": "cd6e577f",
   "metadata": {},
   "outputs": [
    {
     "ename": "NameError",
     "evalue": "name 'inputs' is not defined",
     "output_type": "error",
     "traceback": [
      "\u001b[1;31m---------------------------------------------------------------------------\u001b[0m",
      "\u001b[1;31mNameError\u001b[0m                                 Traceback (most recent call last)",
      "Input \u001b[1;32mIn [8]\u001b[0m, in \u001b[0;36m<module>\u001b[1;34m\u001b[0m\n\u001b[1;32m----> 1\u001b[0m \u001b[38;5;28mlen\u001b[39m(\u001b[43minputs\u001b[49m)\u001b[38;5;241m/\u001b[39m\u001b[38;5;241m10\u001b[39m\n",
      "\u001b[1;31mNameError\u001b[0m: name 'inputs' is not defined"
     ]
    }
   ],
   "source": [
    "len(inputs)/10"
   ]
  },
  {
   "cell_type": "code",
   "execution_count": null,
   "id": "da86e6f3",
   "metadata": {},
   "outputs": [],
   "source": []
  },
  {
   "cell_type": "code",
   "execution_count": null,
   "id": "29039dc7",
   "metadata": {},
   "outputs": [],
   "source": [
    "plt.imshow(inp_nonmarkov)"
   ]
  },
  {
   "cell_type": "code",
   "execution_count": 9,
   "id": "6b42105a",
   "metadata": {},
   "outputs": [
    {
     "data": {
      "text/plain": [
       "'1.8.0'"
      ]
     },
     "execution_count": 9,
     "metadata": {},
     "output_type": "execute_result"
    }
   ],
   "source": [
    "import scipy\n",
    "scipy.__version__"
   ]
  },
  {
   "cell_type": "code",
   "execution_count": 10,
   "id": "d4dc19a4",
   "metadata": {},
   "outputs": [
    {
     "ename": "NameError",
     "evalue": "name 'inp_nonmarkov' is not defined",
     "output_type": "error",
     "traceback": [
      "\u001b[1;31m---------------------------------------------------------------------------\u001b[0m",
      "\u001b[1;31mNameError\u001b[0m                                 Traceback (most recent call last)",
      "Input \u001b[1;32mIn [10]\u001b[0m, in \u001b[0;36m<module>\u001b[1;34m\u001b[0m\n\u001b[1;32m----> 1\u001b[0m sparse\u001b[38;5;241m.\u001b[39mcsr_array(\u001b[43minp_nonmarkov\u001b[49m)\n",
      "\u001b[1;31mNameError\u001b[0m: name 'inp_nonmarkov' is not defined"
     ]
    }
   ],
   "source": [
    "sparse.csr_array(inp_nonmarkov)"
   ]
  },
  {
   "cell_type": "code",
   "execution_count": null,
   "id": "a8e554f6",
   "metadata": {},
   "outputs": [],
   "source": [
    "i = 3000\n",
    "breakpoints = [i,i+2194]\n",
    "inputs = inputs_tv.set_index('Datetime')\n",
    "target = targets_tv['mean_chla_depth']\n",
    "scalerin = scalerin.fit(inputs.values)\n",
    "scalerout = scalerout.fit(target.values.reshape(-1, 1))\n",
    "ninp = scalerin.transform(inputs.values)\n",
    "ninp = np.nan_to_num(ninp)\n",
    "ntar = scalerout.transform(target.values.reshape(-1, 1))\n",
    "ntar = np.nan_to_num(ntar)\n",
    "ninp_pad = np.concatenate([ninp[:breakpoints[0]],np.zeros((breakpoints[1]-breakpoints[0],ninp.shape[1])),ninp[breakpoints[1]:]])\n",
    "ntar_pad = np.concatenate([ntar[:breakpoints[0]],np.zeros((breakpoints[1]-breakpoints[0],ntar.shape[1])),ntar[breakpoints[1]:]])\n",
    "\n",
    "cor = signal.correlate(ninp_pad,np.expand_dims(ntar_pad[:,0],-1), mode='full')/len(ntar_pad)\n",
    "#note: due to the empty space left by the validation set, the correlation cannot reach one\n",
    "\n",
    "cor_lag = signal.correlation_lags(ninp_pad.shape[0],ntar_pad.shape[0], mode='full')\n",
    "idx0 = np.where(cor_lag==0)[0][0]\n",
    "cor_past = cor[:idx0]\n",
    "cor_mask = cor_past>0.2\n",
    "longest_lag = np.argmax(np.any(cor_mask,axis=1))\n",
    "max_lag = min(longest_lag,24*60)\n",
    "#cor_lag = cor_lag[max_lag:idx0-24*lag]\n",
    "cor_mask = cor_mask[idx0-max_lag:idx0]\n",
    "\n",
    "#format the input\n",
    "start_inp = np.concatenate([np.arange(0,breakpoints[0]-max_lag),np.arange(breakpoints[1],len(ninp)-max_lag)])\n",
    "inp_nonmarkov = np.zeros((len(start_inp),max_lag*ninp.shape[1]))\n",
    "tar_nonmarkov = np.zeros(len(start_inp))\n",
    "for idx,start in enumerate(start_inp):\n",
    "    inp_nonmarkov[idx,:] = sparse.csc_array((cor_mask * ninp[start:start+max_lag]).flatten())\n",
    "    tar_nonmarkov[idx] = ntar[start+max_lag]\n",
    "#fit the model:\n",
    "#model = LinearRegression().fit(inp_nonmarkov,tar_nonmarkov)"
   ]
  },
  {
   "cell_type": "code",
   "execution_count": 30,
   "id": "df07c0cb",
   "metadata": {},
   "outputs": [
    {
     "name": "stdout",
     "output_type": "stream",
     "text": [
      "ERROR! Session/line number was not unique in database. History logging moved to new session 668\n"
     ]
    },
    {
     "ename": "KeyboardInterrupt",
     "evalue": "",
     "output_type": "error",
     "traceback": [
      "\u001b[1;31m---------------------------------------------------------------------------\u001b[0m",
      "\u001b[1;31mKeyboardInterrupt\u001b[0m                         Traceback (most recent call last)",
      "Input \u001b[1;32mIn [30]\u001b[0m, in \u001b[0;36m<module>\u001b[1;34m\u001b[0m\n\u001b[1;32m----> 1\u001b[0m model \u001b[38;5;241m=\u001b[39m \u001b[43mLinearRegression\u001b[49m\u001b[43m(\u001b[49m\u001b[43m)\u001b[49m\u001b[38;5;241;43m.\u001b[39;49m\u001b[43mfit\u001b[49m\u001b[43m(\u001b[49m\u001b[43minp_nonmarkov\u001b[49m\u001b[43m,\u001b[49m\u001b[43mtar_nonmarkov\u001b[49m\u001b[43m)\u001b[49m\n",
      "File \u001b[1;32m~\\Anaconda3\\envs\\spacetimeformer\\lib\\site-packages\\sklearn\\linear_model\\_base.py:512\u001b[0m, in \u001b[0;36mLinearRegression.fit\u001b[1;34m(self, X, y, sample_weight)\u001b[0m\n\u001b[0;32m    508\u001b[0m \u001b[38;5;28;01mif\u001b[39;00m sample_weight \u001b[38;5;129;01mis\u001b[39;00m \u001b[38;5;129;01mnot\u001b[39;00m \u001b[38;5;28;01mNone\u001b[39;00m:\n\u001b[0;32m    509\u001b[0m     sample_weight \u001b[38;5;241m=\u001b[39m _check_sample_weight(sample_weight, X,\n\u001b[0;32m    510\u001b[0m                                          dtype\u001b[38;5;241m=\u001b[39mX\u001b[38;5;241m.\u001b[39mdtype)\n\u001b[1;32m--> 512\u001b[0m X, y, X_offset, y_offset, X_scale \u001b[38;5;241m=\u001b[39m \u001b[38;5;28;43mself\u001b[39;49m\u001b[38;5;241;43m.\u001b[39;49m\u001b[43m_preprocess_data\u001b[49m\u001b[43m(\u001b[49m\n\u001b[0;32m    513\u001b[0m \u001b[43m    \u001b[49m\u001b[43mX\u001b[49m\u001b[43m,\u001b[49m\u001b[43m \u001b[49m\u001b[43my\u001b[49m\u001b[43m,\u001b[49m\u001b[43m \u001b[49m\u001b[43mfit_intercept\u001b[49m\u001b[38;5;241;43m=\u001b[39;49m\u001b[38;5;28;43mself\u001b[39;49m\u001b[38;5;241;43m.\u001b[39;49m\u001b[43mfit_intercept\u001b[49m\u001b[43m,\u001b[49m\u001b[43m \u001b[49m\u001b[43mnormalize\u001b[49m\u001b[38;5;241;43m=\u001b[39;49m\u001b[38;5;28;43mself\u001b[39;49m\u001b[38;5;241;43m.\u001b[39;49m\u001b[43mnormalize\u001b[49m\u001b[43m,\u001b[49m\n\u001b[0;32m    514\u001b[0m \u001b[43m    \u001b[49m\u001b[43mcopy\u001b[49m\u001b[38;5;241;43m=\u001b[39;49m\u001b[38;5;28;43mself\u001b[39;49m\u001b[38;5;241;43m.\u001b[39;49m\u001b[43mcopy_X\u001b[49m\u001b[43m,\u001b[49m\u001b[43m \u001b[49m\u001b[43msample_weight\u001b[49m\u001b[38;5;241;43m=\u001b[39;49m\u001b[43msample_weight\u001b[49m\u001b[43m,\u001b[49m\n\u001b[0;32m    515\u001b[0m \u001b[43m    \u001b[49m\u001b[43mreturn_mean\u001b[49m\u001b[38;5;241;43m=\u001b[39;49m\u001b[38;5;28;43;01mTrue\u001b[39;49;00m\u001b[43m)\u001b[49m\n\u001b[0;32m    517\u001b[0m \u001b[38;5;28;01mif\u001b[39;00m sample_weight \u001b[38;5;129;01mis\u001b[39;00m \u001b[38;5;129;01mnot\u001b[39;00m \u001b[38;5;28;01mNone\u001b[39;00m:\n\u001b[0;32m    518\u001b[0m     \u001b[38;5;66;03m# Sample weight can be implemented via a simple rescaling.\u001b[39;00m\n\u001b[0;32m    519\u001b[0m     X, y \u001b[38;5;241m=\u001b[39m _rescale_data(X, y, sample_weight)\n",
      "File \u001b[1;32m~\\Anaconda3\\envs\\spacetimeformer\\lib\\site-packages\\sklearn\\linear_model\\_base.py:128\u001b[0m, in \u001b[0;36m_preprocess_data\u001b[1;34m(X, y, fit_intercept, normalize, copy, sample_weight, return_mean, check_input)\u001b[0m\n\u001b[0;32m    125\u001b[0m     sample_weight \u001b[38;5;241m=\u001b[39m np\u001b[38;5;241m.\u001b[39masarray(sample_weight)\n\u001b[0;32m    127\u001b[0m \u001b[38;5;28;01mif\u001b[39;00m check_input:\n\u001b[1;32m--> 128\u001b[0m     X \u001b[38;5;241m=\u001b[39m \u001b[43mcheck_array\u001b[49m\u001b[43m(\u001b[49m\u001b[43mX\u001b[49m\u001b[43m,\u001b[49m\u001b[43m \u001b[49m\u001b[43mcopy\u001b[49m\u001b[38;5;241;43m=\u001b[39;49m\u001b[43mcopy\u001b[49m\u001b[43m,\u001b[49m\u001b[43m \u001b[49m\u001b[43maccept_sparse\u001b[49m\u001b[38;5;241;43m=\u001b[39;49m\u001b[43m[\u001b[49m\u001b[38;5;124;43m'\u001b[39;49m\u001b[38;5;124;43mcsr\u001b[39;49m\u001b[38;5;124;43m'\u001b[39;49m\u001b[43m,\u001b[49m\u001b[43m \u001b[49m\u001b[38;5;124;43m'\u001b[39;49m\u001b[38;5;124;43mcsc\u001b[39;49m\u001b[38;5;124;43m'\u001b[39;49m\u001b[43m]\u001b[49m\u001b[43m,\u001b[49m\n\u001b[0;32m    129\u001b[0m \u001b[43m                    \u001b[49m\u001b[43mdtype\u001b[49m\u001b[38;5;241;43m=\u001b[39;49m\u001b[43mFLOAT_DTYPES\u001b[49m\u001b[43m)\u001b[49m\n\u001b[0;32m    130\u001b[0m \u001b[38;5;28;01melif\u001b[39;00m copy:\n\u001b[0;32m    131\u001b[0m     \u001b[38;5;28;01mif\u001b[39;00m sp\u001b[38;5;241m.\u001b[39missparse(X):\n",
      "File \u001b[1;32m~\\Anaconda3\\envs\\spacetimeformer\\lib\\site-packages\\sklearn\\utils\\validation.py:72\u001b[0m, in \u001b[0;36m_deprecate_positional_args.<locals>.inner_f\u001b[1;34m(*args, **kwargs)\u001b[0m\n\u001b[0;32m     67\u001b[0m     warnings\u001b[38;5;241m.\u001b[39mwarn(\u001b[38;5;124m\"\u001b[39m\u001b[38;5;124mPass \u001b[39m\u001b[38;5;132;01m{}\u001b[39;00m\u001b[38;5;124m as keyword args. From version 0.25 \u001b[39m\u001b[38;5;124m\"\u001b[39m\n\u001b[0;32m     68\u001b[0m                   \u001b[38;5;124m\"\u001b[39m\u001b[38;5;124mpassing these as positional arguments will \u001b[39m\u001b[38;5;124m\"\u001b[39m\n\u001b[0;32m     69\u001b[0m                   \u001b[38;5;124m\"\u001b[39m\u001b[38;5;124mresult in an error\u001b[39m\u001b[38;5;124m\"\u001b[39m\u001b[38;5;241m.\u001b[39mformat(\u001b[38;5;124m\"\u001b[39m\u001b[38;5;124m, \u001b[39m\u001b[38;5;124m\"\u001b[39m\u001b[38;5;241m.\u001b[39mjoin(args_msg)),\n\u001b[0;32m     70\u001b[0m                   \u001b[38;5;167;01mFutureWarning\u001b[39;00m)\n\u001b[0;32m     71\u001b[0m kwargs\u001b[38;5;241m.\u001b[39mupdate({k: arg \u001b[38;5;28;01mfor\u001b[39;00m k, arg \u001b[38;5;129;01min\u001b[39;00m \u001b[38;5;28mzip\u001b[39m(sig\u001b[38;5;241m.\u001b[39mparameters, args)})\n\u001b[1;32m---> 72\u001b[0m \u001b[38;5;28;01mreturn\u001b[39;00m \u001b[43mf\u001b[49m\u001b[43m(\u001b[49m\u001b[38;5;241;43m*\u001b[39;49m\u001b[38;5;241;43m*\u001b[39;49m\u001b[43mkwargs\u001b[49m\u001b[43m)\u001b[49m\n",
      "File \u001b[1;32m~\\Anaconda3\\envs\\spacetimeformer\\lib\\site-packages\\sklearn\\utils\\validation.py:664\u001b[0m, in \u001b[0;36mcheck_array\u001b[1;34m(array, accept_sparse, accept_large_sparse, dtype, order, copy, force_all_finite, ensure_2d, allow_nd, ensure_min_samples, ensure_min_features, estimator)\u001b[0m\n\u001b[0;32m    658\u001b[0m         \u001b[38;5;28;01mraise\u001b[39;00m \u001b[38;5;167;01mValueError\u001b[39;00m(\u001b[38;5;124m\"\u001b[39m\u001b[38;5;124mFound array with \u001b[39m\u001b[38;5;132;01m%d\u001b[39;00m\u001b[38;5;124m feature(s) (shape=\u001b[39m\u001b[38;5;132;01m%s\u001b[39;00m\u001b[38;5;124m) while\u001b[39m\u001b[38;5;124m\"\u001b[39m\n\u001b[0;32m    659\u001b[0m                          \u001b[38;5;124m\"\u001b[39m\u001b[38;5;124m a minimum of \u001b[39m\u001b[38;5;132;01m%d\u001b[39;00m\u001b[38;5;124m is required\u001b[39m\u001b[38;5;132;01m%s\u001b[39;00m\u001b[38;5;124m.\u001b[39m\u001b[38;5;124m\"\u001b[39m\n\u001b[0;32m    660\u001b[0m                          \u001b[38;5;241m%\u001b[39m (n_features, array\u001b[38;5;241m.\u001b[39mshape, ensure_min_features,\n\u001b[0;32m    661\u001b[0m                             context))\n\u001b[0;32m    663\u001b[0m \u001b[38;5;28;01mif\u001b[39;00m copy \u001b[38;5;129;01mand\u001b[39;00m np\u001b[38;5;241m.\u001b[39mmay_share_memory(array, array_orig):\n\u001b[1;32m--> 664\u001b[0m     array \u001b[38;5;241m=\u001b[39m \u001b[43mnp\u001b[49m\u001b[38;5;241;43m.\u001b[39;49m\u001b[43marray\u001b[49m\u001b[43m(\u001b[49m\u001b[43marray\u001b[49m\u001b[43m,\u001b[49m\u001b[43m \u001b[49m\u001b[43mdtype\u001b[49m\u001b[38;5;241;43m=\u001b[39;49m\u001b[43mdtype\u001b[49m\u001b[43m,\u001b[49m\u001b[43m \u001b[49m\u001b[43morder\u001b[49m\u001b[38;5;241;43m=\u001b[39;49m\u001b[43morder\u001b[49m\u001b[43m)\u001b[49m\n\u001b[0;32m    666\u001b[0m \u001b[38;5;28;01mreturn\u001b[39;00m array\n",
      "\u001b[1;31mKeyboardInterrupt\u001b[0m: "
     ]
    }
   ],
   "source": [
    "model = LinearRegression().fit(inp_nonmarkov,tar_nonmarkov)"
   ]
  },
  {
   "cell_type": "code",
   "execution_count": 16,
   "id": "ffc3ba1e",
   "metadata": {},
   "outputs": [
    {
     "ename": "NameError",
     "evalue": "name 'Markov_model' is not defined",
     "output_type": "error",
     "traceback": [
      "\u001b[1;31m---------------------------------------------------------------------------\u001b[0m",
      "\u001b[1;31mNameError\u001b[0m                                 Traceback (most recent call last)",
      "Input \u001b[1;32mIn [16]\u001b[0m, in \u001b[0;36m<module>\u001b[1;34m\u001b[0m\n\u001b[0;32m      1\u001b[0m \u001b[38;5;66;03m#model = CP_model(['mean_chla_depth'])\u001b[39;00m\n\u001b[1;32m----> 2\u001b[0m model \u001b[38;5;241m=\u001b[39m \u001b[43mMarkov_model\u001b[49m([\u001b[38;5;124m'\u001b[39m\u001b[38;5;124mmean_chla_depth\u001b[39m\u001b[38;5;124m'\u001b[39m],df\u001b[38;5;241m.\u001b[39mkeys())\n",
      "\u001b[1;31mNameError\u001b[0m: name 'Markov_model' is not defined"
     ]
    }
   ],
   "source": [
    "#model = CP_model(['mean_chla_depth'])\n",
    "model = Markov_model(['mean_chla_depth'],df.keys())"
   ]
  },
  {
   "cell_type": "code",
   "execution_count": 17,
   "id": "b51ccef7",
   "metadata": {},
   "outputs": [],
   "source": [
    "test_prop = 0.1\n",
    "n_fold = 10\n",
    "lag = 1\n",
    "in_keys = df.keys()\n",
    "out_keys = ['mean_chla_depth','cluster_1']\n",
    "test_len = int(len(df)*test_prop)\n",
    "dftest = df[-test_len:].reset_index(drop=True)\n",
    "dftv = df[:-test_len]\n",
    "\n",
    "inputs_tv = dftv[in_keys][:-24*lag]\n",
    "targets_tv = dftv[out_keys][24*lag:].reset_index(drop=True)\n",
    "\n",
    "inputs_test = dftest[in_keys][:-24*lag]\n",
    "targets_test = dftest[out_keys][24*lag:].reset_index(drop=True)\n"
   ]
  },
  {
   "cell_type": "code",
   "execution_count": 18,
   "id": "375d5c27",
   "metadata": {},
   "outputs": [
    {
     "data": {
      "text/plain": [
       "[<matplotlib.lines.Line2D at 0x2499aa92400>]"
      ]
     },
     "execution_count": 18,
     "metadata": {},
     "output_type": "execute_result"
    },
    {
     "data": {
      "image/png": "[encoded data removed]",
      "text/plain": [
       "<Figure size 432x288 with 1 Axes>"
      ]
     },
     "metadata": {
      "needs_background": "light"
     },
     "output_type": "display_data"
    }
   ],
   "source": [
    "plt.plot(dftv['diatom'])"
   ]
  },
  {
   "cell_type": "code",
   "execution_count": 19,
   "id": "d446bf6b",
   "metadata": {},
   "outputs": [
    {
     "ename": "NameError",
     "evalue": "name 'model' is not defined",
     "output_type": "error",
     "traceback": [
      "\u001b[1;31m---------------------------------------------------------------------------\u001b[0m",
      "\u001b[1;31mNameError\u001b[0m                                 Traceback (most recent call last)",
      "Input \u001b[1;32mIn [19]\u001b[0m, in \u001b[0;36m<module>\u001b[1;34m\u001b[0m\n\u001b[1;32m----> 1\u001b[0m res \u001b[38;5;241m=\u001b[39m kfold(\u001b[43mmodel\u001b[49m,inputs_tv,n_fold,inputs_test,targets_tv,targets_test)\n",
      "\u001b[1;31mNameError\u001b[0m: name 'model' is not defined"
     ]
    }
   ],
   "source": [
    "res = kfold(model,inputs_tv,n_fold,inputs_test,targets_tv,targets_test)\n"
   ]
  },
  {
   "cell_type": "code",
   "execution_count": null,
   "id": "8b2ef4dc",
   "metadata": {},
   "outputs": [],
   "source": []
  },
  {
   "cell_type": "code",
   "execution_count": 20,
   "id": "8b256ea8",
   "metadata": {},
   "outputs": [],
   "source": [
    "def nice_plot(inputs_tv,inputs_test,targets_tv,targets_test,res):\n",
    "    fig,axs = plt.subplots(len(targets_tv.keys()),figsize = (15,6*len(targets_tv.keys())))\n",
    "    if len(targets_tv.keys()):\n",
    "        axs=[axs]\n",
    "    for idx,(ax,key) in enumerate(zip(axs,targets_tv.keys())):\n",
    "        val_concat = np.concatenate([f['y_predv'] for f in res])\n",
    "        true = ax.scatter(inputs_tv['Datetime'],targets_tv.to_numpy(),s=1)\n",
    "        for fold in range(len(res[0]['bp'])-1):\n",
    "            pred = ax.scatter(inputs_tv['Datetime'][res[0]['bp'][fold]:res[0]['bp'][fold+1]],res[fold]['y_predv'],s=0.5)\n",
    "def plot_res(res):\n",
    "    print(f\"R2 val: {np.mean([f['s_val']['R2'] for f in res]):.2} +/- {2*np.std([f['s_val']['R2'] for f in res]):.2}\")\n",
    "    print(f\"R2 test: {np.mean([f['s_test']['R2'] for f in res]):.2} +/- {2*np.std([f['s_val']['R2'] for f in res]):.2}\")\n",
    "    "
   ]
  },
  {
   "cell_type": "code",
   "execution_count": 21,
   "id": "b6dac45c",
   "metadata": {},
   "outputs": [
    {
     "ename": "NameError",
     "evalue": "name 'res' is not defined",
     "output_type": "error",
     "traceback": [
      "\u001b[1;31m---------------------------------------------------------------------------\u001b[0m",
      "\u001b[1;31mNameError\u001b[0m                                 Traceback (most recent call last)",
      "Input \u001b[1;32mIn [21]\u001b[0m, in \u001b[0;36m<module>\u001b[1;34m\u001b[0m\n\u001b[1;32m----> 1\u001b[0m nice_plot(inputs_tv,inputs_test,targets_tv,targets_test,\u001b[43mres\u001b[49m)\n",
      "\u001b[1;31mNameError\u001b[0m: name 'res' is not defined"
     ]
    }
   ],
   "source": [
    "nice_plot(inputs_tv,inputs_test,targets_tv,targets_test,res)"
   ]
  },
  {
   "cell_type": "code",
   "execution_count": 22,
   "id": "87141bed",
   "metadata": {
    "scrolled": true
   },
   "outputs": [
    {
     "ename": "NameError",
     "evalue": "name 'res' is not defined",
     "output_type": "error",
     "traceback": [
      "\u001b[1;31m---------------------------------------------------------------------------\u001b[0m",
      "\u001b[1;31mNameError\u001b[0m                                 Traceback (most recent call last)",
      "Input \u001b[1;32mIn [22]\u001b[0m, in \u001b[0;36m<module>\u001b[1;34m\u001b[0m\n\u001b[1;32m----> 1\u001b[0m plot_res(\u001b[43mres\u001b[49m)\n",
      "\u001b[1;31mNameError\u001b[0m: name 'res' is not defined"
     ]
    }
   ],
   "source": [
    "plot_res(res)"
   ]
  },
  {
   "cell_type": "code",
   "execution_count": null,
   "id": "1da881d7",
   "metadata": {},
   "outputs": [],
   "source": []
  },
  {
   "cell_type": "code",
   "execution_count": 23,
   "id": "e2bc91f5",
   "metadata": {},
   "outputs": [
    {
     "data": {
      "text/plain": [
       "(21940, 2)"
      ]
     },
     "execution_count": 23,
     "metadata": {},
     "output_type": "execute_result"
    }
   ],
   "source": [
    "targets_tv.to_numpy().shape"
   ]
  },
  {
   "cell_type": "code",
   "execution_count": null,
   "id": "deac0b2a",
   "metadata": {},
   "outputs": [],
   "source": []
  },
  {
   "cell_type": "code",
   "execution_count": null,
   "id": "45f8b064",
   "metadata": {},
   "outputs": [],
   "source": []
  }
 ],
 "metadata": {
  "kernelspec": {
   "display_name": "Python 3 (ipykernel)",
   "language": "python",
   "name": "python3"
  },
  "language_info": {
   "codemirror_mode": {
    "name": "ipython",
    "version": 3
   },
   "file_extension": ".py",
   "mimetype": "text/x-python",
   "name": "python",
   "nbconvert_exporter": "python",
   "pygments_lexer": "ipython3",
   "version": "3.8.0"
  }
 },
 "nbformat": 4,
 "nbformat_minor": 5
}
