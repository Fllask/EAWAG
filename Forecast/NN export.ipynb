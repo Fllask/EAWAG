{
 "cells": [
  {
   "cell_type": "code",
   "execution_count": 4,
   "id": "913bccbc",
   "metadata": {},
   "outputs": [],
   "source": [
    "import torch\n",
    "import pandas as pd\n",
    "import numpy as np\n",
    "import yaml\n",
    "import importlib\n",
    "import sys\n",
    "import os\n",
    "import matplotlib.pyplot as plt\n",
    "import glob\n",
    "\n",
    "stf_dir = os.path.join(os.pardir, 'spacetimeformer')\n",
    "\n",
    "sys.path.append(stf_dir)\n",
    "\n",
    "\n",
    "import spacetimeformer as stf\n",
    "importlib.reload(stf) #to make sure the last version of stf is used\n",
    "\n",
    "from torch.distributions import Normal"
   ]
  },
  {
   "cell_type": "code",
   "execution_count": 5,
   "id": "8f8971b7",
   "metadata": {},
   "outputs": [
    {
     "data": {
      "text/plain": [
       "['run-20220105_151024-3debir7d',\n",
       " 'run-20220105_151101-1xscb9t0',\n",
       " 'run-20220105_151253-2r2wxfyk',\n",
       " 'run-20220105_151410-jq1vxkvy',\n",
       " 'run-20220105_152646-kvhj5avn',\n",
       " 'run-20220105_152717-195gu43e',\n",
       " 'run-20220105_153557-2x7jrlc3',\n",
       " 'run-20220105_175945-3cp6v8qa',\n",
       " 'run-20220105_180110-16s5ctwa',\n",
       " 'run-20220105_180140-1kdcjqqi',\n",
       " 'run-20220106_155935-1n5ojp36',\n",
       " 'run-20220106_160201-20aekiwm',\n",
       " 'run-20220106_160653-1gos8qq4',\n",
       " 'run-20220106_160748-3cptxz9c',\n",
       " 'run-20220107_105046-3m48jgg1',\n",
       " 'run-20220107_123224-1klbw7yl',\n",
       " 'run-20220107_123338-3dle75sx',\n",
       " 'run-20220107_123609-3gofud6i',\n",
       " 'run-20220107_123914-2rqfsrdy',\n",
       " 'run-20220107_125914-rg87v0mq',\n",
       " 'run-20220107_131635-2m8lgxsm',\n",
       " 'run-20220107_134434-3aedj03h',\n",
       " 'run-20220107_134448-uwacre6k',\n",
       " 'run-20220107_140119-374fya35',\n",
       " 'run-20220107_142345-3copmedt',\n",
       " 'run-20220107_144028-x9zjly28',\n",
       " 'run-20220107_144401-wyd4iko3',\n",
       " 'run-20220107_151029-zkzb1nm9',\n",
       " 'run-20220107_153324-2e62h1kx',\n",
       " 'run-20220107_164217-1yc6io4a',\n",
       " 'run-20220110_111046-3nnudbee',\n",
       " 'run-20220110_114604-kkogoq0r',\n",
       " 'run-20220110_121938-ft893qjb',\n",
       " 'run-20220110_122825-3asvwnk7',\n",
       " 'run-20220110_123504-1hrp8ar4',\n",
       " 'run-20220110_123701-10cyxwve',\n",
       " 'run-20220110_125333-31mfnjeu',\n",
       " 'run-20220110_130439-30f4ugdf',\n",
       " 'run-20220110_130654-31ne2lkt',\n",
       " 'run-20220110_130806-psnvjvo0',\n",
       " 'run-20220110_131240-2nacsb7u',\n",
       " 'run-20220110_134808-3ojrlqel',\n",
       " 'run-20220110_142247-2i31djxf',\n",
       " 'run-20220110_145350-15zooig8',\n",
       " 'run-20220110_151136-2204pmk3',\n",
       " 'run-20220110_153205-1amr7yb7',\n",
       " 'run-20220110_153537-2gxe0h87',\n",
       " 'run-20220110_163643-3dd8xu46',\n",
       " 'run-20220110_185118-lw74yh1m',\n",
       " 'run-20220110_225820-3mnmtysa',\n",
       " 'run-20220110_232452-2637rv5x',\n",
       " 'run-20220110_235602-29relel3',\n",
       " 'run-20220111_011359-1rvhfiaf',\n",
       " 'run-20220111_152910-x4qwadw8',\n",
       " 'run-20220111_153210-k1il7jci',\n",
       " 'run-20220111_162825-2adsix84',\n",
       " 'run-20220111_163126-37lasmx9',\n",
       " 'run-20220111_163206-52djfble',\n",
       " 'run-20220111_163326-2i2868lc',\n",
       " 'run-20220111_163454-6piltexh',\n",
       " 'run-20220111_163906-1fmvjps7',\n",
       " 'run-20220111_180536-2kvep7ne',\n",
       " 'run-20220111_180611-1hdt1bx0',\n",
       " 'run-20220111_181047-2xi0v98h',\n",
       " 'run-20220111_181513-1mu71x6z',\n",
       " 'run-20220111_181547-1o0xlrl8',\n",
       " 'run-20220111_181641-14bn9nvu',\n",
       " 'run-20220111_195229-1z5zmjcd',\n",
       " 'run-20220111_195257-1xzwbldu',\n",
       " 'run-20220111_195444-5k1pqaec',\n",
       " 'run-20220111_200228-3ou3ymxq',\n",
       " 'run-20220111_200333-34sa7f3u',\n",
       " 'run-20220111_200810-1kkga5w1',\n",
       " 'run-20220111_201138-1ywhp9vy',\n",
       " 'run-20220112_100513-2p76a1zs',\n",
       " 'run-20220112_100556-h33bpe8e',\n",
       " 'run-20220112_100628-artfdp6l',\n",
       " 'run-20220112_100709-1jr9jql8',\n",
       " 'run-20220112_100746-23hc1vi8',\n",
       " 'run-20220112_100814-r4rj30c7',\n",
       " 'run-20220112_100846-3cqpzmun',\n",
       " 'run-20220112_102351-3iv8kmc0',\n",
       " 'run-20220112_104100-19i1p9jv',\n",
       " 'run-20220112_104857-1km0ds6r',\n",
       " 'run-20220117_172618-46vsh7sb',\n",
       " 'run-20220117_172925-fnn4wd1h',\n",
       " 'run-20220117_172956-17908ebe',\n",
       " 'run-20220117_173128-2kms0iuv',\n",
       " 'run-20220117_173419-1gbsqk7m',\n",
       " 'run-20220117_174351-2t2tr1xq',\n",
       " 'run-20220117_174947-1uje6d18',\n",
       " 'run-20220117_181518-1c6njn4k',\n",
       " 'run-20220117_183032-m8betdmp',\n",
       " 'run-20220117_183322-1yjbidqc',\n",
       " 'run-20220117_191526-5qewylpp',\n",
       " 'run-20220117_191742-2y37ochx',\n",
       " 'run-20220117_203739-2cabxbdt',\n",
       " 'run-20220118_122251-2zf98l6e',\n",
       " 'run-20220118_123401-2hiqfmwu',\n",
       " 'run-20220118_125501-1t8dk24m',\n",
       " 'run-20220118_130157-2pqqz4ku',\n",
       " 'run-20220118_130248-2uuqlw4k',\n",
       " 'run-20220118_130443-1qbte6ji',\n",
       " 'run-20220118_130647-36v07v0y',\n",
       " 'run-20220118_130824-15cnu1m1',\n",
       " 'run-20220118_131413-2fj0rggn',\n",
       " 'run-20220118_131532-9n46skog',\n",
       " 'run-20220118_131653-38r1et8v',\n",
       " 'run-20220118_133039-1rdnh3lp',\n",
       " 'run-20220118_134620-bpi7lyml',\n",
       " 'run-20220118_135328-3tlataox',\n",
       " 'run-20220118_140951-2lgri0v9',\n",
       " 'run-20220118_141134-3h57f7w5',\n",
       " 'run-20220118_141423-19kje1j7',\n",
       " 'run-20220118_141502-1hbfkzry',\n",
       " 'run-20220118_141639-82b6n2a1',\n",
       " 'run-20220118_141738-1cs7j2mv',\n",
       " 'run-20220118_141817-6dxgrq66',\n",
       " 'run-20220118_161107-36i7weas',\n",
       " 'run-20220118_172002-i7d2cy5f',\n",
       " 'run-20220118_172133-2t6qmixa',\n",
       " 'run-20220118_182617-28hqyl31',\n",
       " 'run-20220118_182823-msqwu3yu',\n",
       " 'run-20220118_183222-3blncgp9',\n",
       " 'run-20220118_183318-27s83m09',\n",
       " 'run-20220118_183351-3hqpxvcr',\n",
       " 'run-20220118_183516-3lcdavxf',\n",
       " 'run-20220118_183554-wa50ejbx',\n",
       " 'run-20220118_183623-1r7sw29o',\n",
       " 'run-20220118_183707-13yw6esl',\n",
       " 'run-20220118_183800-3uln2i77',\n",
       " 'run-20220118_183850-21zoptud',\n",
       " 'run-20220119_142731-m4d5cd16',\n",
       " 'run-20220119_142822-8r1t1cvv',\n",
       " 'run-20220120_123933-gjitwqwn',\n",
       " 'run-20220120_124029-3ibyiofh',\n",
       " 'run-20220120_135608-2q9xejf0',\n",
       " 'run-20220120_140922-2mcdhjql',\n",
       " 'run-20220120_142756-1ctx57y0',\n",
       " 'run-20220120_142840-xr3klm6u',\n",
       " 'run-20220120_143217-1eq3vu2h',\n",
       " 'run-20220120_144449-1fj4bch1',\n",
       " 'run-20220120_152735-fb5tj2o0',\n",
       " 'run-20220120_152805-1xdjv4xu',\n",
       " 'run-20220120_152836-4v3evgnk',\n",
       " 'run-20220120_154932-224ubm6g',\n",
       " 'run-20220121_161111-o2o0qrc0',\n",
       " 'run-20220121_161159-geob4tix',\n",
       " 'run-20220121_161306-11b4s0pk',\n",
       " 'run-20220121_161332-1u3hilsb',\n",
       " 'run-20220121_161441-1w0uqaaf',\n",
       " 'run-20220121_161712-1qp22dby',\n",
       " 'run-20220121_161844-6w9wb9vk',\n",
       " 'run-20220121_161920-3hgzc40z',\n",
       " 'run-20220121_161943-2c21zcpt',\n",
       " 'run-20220121_162213-37z36n85',\n",
       " 'run-20220121_162830-38kt0gb9',\n",
       " 'run-20220121_174533-1uo3m87l',\n",
       " 'run-20220121_191147-2getispu',\n",
       " 'run-20220131_115824-393x80u2',\n",
       " 'run-20220131_115906-12xrkol4',\n",
       " 'run-20220131_115947-lt6e7ypa',\n",
       " 'run-20220131_120255-1fyyorr9',\n",
       " 'run-20220131_120356-261a3pcd',\n",
       " 'run-20220131_120432-1ujelxk5',\n",
       " 'run-20220131_120607-rmxy3ji2',\n",
       " 'run-20220131_121032-17fb322n',\n",
       " 'run-20220131_121344-2ohp7156',\n",
       " 'run-20220131_122658-2zytq6yr',\n",
       " 'run-20220131_123027-o1y1i1ao',\n",
       " 'run-20220131_124247-htmbaw6z',\n",
       " 'run-20220131_125629-3behl0en',\n",
       " 'run-20220131_130413-zqys6z6q',\n",
       " 'run-20220131_130449-2z718hx8',\n",
       " 'run-20220131_131147-77rq0qsm',\n",
       " 'run-20220131_131856-36xh7mf2',\n",
       " 'run-20220131_135459-1iu2q37a',\n",
       " 'run-20220131_141223-pgklcqph',\n",
       " 'run-20220131_141411-1tjzc95x',\n",
       " 'run-20220131_141642-26lrz441',\n",
       " 'run-20220131_141650-3h2eeqge',\n",
       " 'run-20220131_142646-16r175o6',\n",
       " 'run-20220131_143606-2p89tdnw',\n",
       " 'run-20220131_144334-22qm7n9l',\n",
       " 'run-20220131_144851-5njntbli',\n",
       " 'run-20220131_145325-h59k9k5u',\n",
       " 'run-20220131_145932-2pifxn7v',\n",
       " 'run-20220131_150639-gz2k0m3m',\n",
       " 'run-20220131_150746-1zj008qs',\n",
       " 'run-20220131_150814-3fgb0tb5',\n",
       " 'run-20220131_150915-eaqsluay',\n",
       " 'run-20220131_151031-1qppljer',\n",
       " 'run-20220131_151142-175d3i3a',\n",
       " 'run-20220131_152030-28q932xd',\n",
       " 'run-20220131_152424-3hg3c434',\n",
       " 'run-20220131_152810-1zgvvvzx',\n",
       " 'run-20220131_153959-tiis3l1u',\n",
       " 'run-20220131_170016-3us9zezz',\n",
       " 'run-20220131_173120-1uh9omq2',\n",
       " 'run-20220131_173442-d9flcn0i',\n",
       " 'run-20220131_174739-3w0q97m5',\n",
       " 'run-20220131_180302-229bc1hl',\n",
       " 'run-20220131_183102-2jjw28uq',\n",
       " 'run-20220131_185224-12h8qo9j',\n",
       " 'run-20220131_185759-smb4i0fd',\n",
       " 'run-20220131_190544-3dtqkx3z',\n",
       " 'run-20220131_190619-17026yt7',\n",
       " 'run-20220131_190656-16csud4o',\n",
       " 'run-20220131_190834-18fp0b9r',\n",
       " 'run-20220131_191133-1aeoz25x',\n",
       " 'run-20220131_191544-3b6aq6eb',\n",
       " 'run-20220131_193455-2fv4z74b',\n",
       " 'run-20220210_125436-3ix49ai7',\n",
       " 'run-20220210_130251-22eurrbg',\n",
       " 'run-20220210_130615-3jyazcco',\n",
       " 'run-20220210_130704-137hytuu',\n",
       " 'run-20220210_132001-3qxoiqd5',\n",
       " 'run-20220210_132027-2wkdffyl',\n",
       " 'run-20220210_132223-367gtjqd',\n",
       " 'run-20220210_144621-2kxdf729',\n",
       " 'run-20220210_144647-1meq31ik',\n",
       " 'run-20220210_145802-14kdmy8t',\n",
       " 'run-20220210_151353-27otf6pf',\n",
       " 'run-20220210_152145-1jmfhutg',\n",
       " 'run-20220210_152301-214xiitx',\n",
       " 'run-20220210_152507-3ppl6rmp',\n",
       " 'run-20220210_152631-2c83xrx6',\n",
       " 'run-20220210_153003-30dk8aga',\n",
       " 'run-20220210_153307-2fmvzacr',\n",
       " 'run-20220210_153520-2lee0wg1',\n",
       " 'run-20220210_153616-25j56vaz',\n",
       " 'run-20220210_153856-281ywcbu',\n",
       " 'run-20220210_154052-6jv8v9c0',\n",
       " 'run-20220210_154404-3ig31f57',\n",
       " 'run-20220210_154931-2osehy20',\n",
       " 'run-20220210_154952-lsmxspn9',\n",
       " 'run-20220210_155014-41yz7quw',\n",
       " 'run-20220210_155052-3q9ncdca',\n",
       " 'run-20220217_153451-1m5hlo35',\n",
       " 'run-20220217_153912-2jjf3bay',\n",
       " 'run-20220217_154440-1c6e59ra',\n",
       " 'run-20220217_154839-3om1xpx8',\n",
       " 'run-20220217_155718-r9e0d7xr',\n",
       " 'run-20220217_160423-156biywn',\n",
       " 'run-20220217_163701-1ua2u3wx',\n",
       " 'run-20220217_172714-1mrshkl8',\n",
       " 'run-20220217_175848-1958wq28',\n",
       " 'run-20220217_181015-37q66s4o',\n",
       " 'run-20220217_183114-29ox92ll',\n",
       " 'run-20220217_183846-1pw098cb',\n",
       " 'run-20220217_185822-1nms7kn9',\n",
       " 'run-20220217_190823-3awmxwb2',\n",
       " 'run-20220217_190903-1i9f7p99',\n",
       " 'run-20220217_191424-2r6n4qk2',\n",
       " 'run-20220217_191748-35aaf7ou',\n",
       " 'run-20220217_192051-1599dtht',\n",
       " 'run-20220217_192656-2sd6be3w',\n",
       " 'run-20220217_194305-9e4k9llo']"
      ]
     },
     "execution_count": 5,
     "metadata": {},
     "output_type": "execute_result"
    }
   ],
   "source": [
    "os.listdir(\"..\\\\spacetimeformer\\\\spacetimeformer\\\\data\\\\stf_LOG_DIR\\\\wandb\\\\\")"
   ]
  },
  {
   "cell_type": "code",
   "execution_count": 140,
   "id": "6767ad79",
   "metadata": {},
   "outputs": [],
   "source": [
    "run_name =   'run-20220217_192656-2sd6be3w'\n",
    "config_path = \"..\\\\spacetimeformer\\\\spacetimeformer\\\\data\\\\stf_LOG_DIR\\\\wandb\\\\\" + run_name+\"\\\\files\\\\config.yaml\"\n",
    "with open(config_path) as file:\n",
    "    # The FullLoader parameter handles the conversion from YAML\n",
    "    # scalar values to Python the dictionary format\n",
    "    config = yaml.load(file, Loader=yaml.FullLoader)\n",
    "config_pross = {}\n",
    "for key in config:\n",
    "    try:\n",
    "        config_pross[key]=config[key]['value']\n",
    "    except:\n",
    "        config_pross[key]=config[key]\n",
    "config=config_pross"
   ]
  },
  {
   "cell_type": "code",
   "execution_count": null,
   "id": "6b0dd399",
   "metadata": {},
   "outputs": [],
   "source": []
  },
  {
   "cell_type": "code",
   "execution_count": 141,
   "id": "ff86afe2",
   "metadata": {},
   "outputs": [
    {
     "name": "stdout",
     "output_type": "stream",
     "text": [
      "GlobalSelfAttn: AttentionLayer(\n",
      "  (inner_attention): PerformerAttention(\n",
      "    (kernel_fn): ReLU()\n",
      "  )\n",
      "  (query_projection): Linear(in_features=256, out_features=256, bias=True)\n",
      "  (key_projection): Linear(in_features=256, out_features=256, bias=True)\n",
      "  (value_projection): Linear(in_features=256, out_features=256, bias=True)\n",
      "  (out_projection): Linear(in_features=256, out_features=256, bias=True)\n",
      "  (dropout_qkv): Dropout(p=0.0, inplace=False)\n",
      ")\n",
      "GlobalCrossAttn: AttentionLayer(\n",
      "  (inner_attention): PerformerAttention(\n",
      "    (kernel_fn): ReLU()\n",
      "  )\n",
      "  (query_projection): Linear(in_features=256, out_features=256, bias=True)\n",
      "  (key_projection): Linear(in_features=256, out_features=256, bias=True)\n",
      "  (value_projection): Linear(in_features=256, out_features=256, bias=True)\n",
      "  (out_projection): Linear(in_features=256, out_features=256, bias=True)\n",
      "  (dropout_qkv): Dropout(p=0.0, inplace=False)\n",
      ")\n",
      "LocalSelfAttn: LocalAttentionLayer(\n",
      "  (inner_attention): PerformerAttention(\n",
      "    (kernel_fn): ReLU()\n",
      "  )\n",
      "  (query_projection): Linear(in_features=256, out_features=256, bias=True)\n",
      "  (key_projection): Linear(in_features=256, out_features=256, bias=True)\n",
      "  (value_projection): Linear(in_features=256, out_features=256, bias=True)\n",
      "  (out_projection): Linear(in_features=256, out_features=256, bias=True)\n",
      "  (dropout_qkv): Dropout(p=0.0, inplace=False)\n",
      ")\n",
      "LocalCrossAttn: LocalAttentionLayer(\n",
      "  (inner_attention): PerformerAttention(\n",
      "    (kernel_fn): ReLU()\n",
      "  )\n",
      "  (query_projection): Linear(in_features=256, out_features=256, bias=True)\n",
      "  (key_projection): Linear(in_features=256, out_features=256, bias=True)\n",
      "  (value_projection): Linear(in_features=256, out_features=256, bias=True)\n",
      "  (out_projection): Linear(in_features=256, out_features=256, bias=True)\n",
      "  (dropout_qkv): Dropout(p=0.0, inplace=False)\n",
      ")\n",
      "Using Embedding: spatio-temporal\n",
      "Time Emb Dim: 12\n",
      "Space Embedding: True\n",
      "Time Embedding: True\n",
      "Val Embedding: True\n",
      "Given Embedding: True\n",
      " *** Spacetimeformer Summary: *** \n",
      "\tModel Dim: 256\n",
      "\tFF Dim: 1024\n",
      "\tEnc Layers: 4\n",
      "\tDec Layers: 3\n",
      "\tEmbed Dropout: 0.2\n",
      "\tToken Dropout: 0.0\n",
      "\tFF Dropout: 0.3\n",
      "\tAttn Out Dropout: 0.0\n",
      "\tQKV Dropout: 0.0\n",
      "\tL2 Coeff: 1e-06\n",
      "\tWarmup Steps: 0\n",
      "\tNormalization Scheme: batch\n",
      " ***                         *** \n"
     ]
    }
   ],
   "source": [
    "#build the dset\n",
    "if config['dset'] =='AquaCTD':\n",
    "    data_path = config['data_path']\n",
    "    date_format = \"%d-%m-%Y\"\n",
    "    if data_path == 'auto':\n",
    "        data_path = \"../Datasets/Forecasting_Aqua/ctd_meteo_aua_2019to2021_V2.csv\"\n",
    "    df = pd.read_csv(data_path)\n",
    "    target_cols = ['mean_chla']\n",
    "    target_cols+=list(df.keys().drop(['Datetime','mean_chla']))\n",
    "    NULL_VAL = 0.\n",
    "if config['dset']=='small_aqua':\n",
    "    data_path = config['data_path']\n",
    "    date_format = \"%d/%m/%Y\"\n",
    "    if data_path == 'auto':\n",
    "        data_path = \"../Datasets/Forecasting_Aqua/ctd_meteo_aua_2019to2021_small.csv\"\n",
    "    df = pd.read_csv(data_path)\n",
    "    target_cols = ['mean_chla']\n",
    "    target_cols+=list(df.keys().drop(['Datetime','mean_chla']))\n",
    "    NULL_VAL = 0.\n",
    "if config['dset']=='vsmall_aqua':\n",
    "    data_path = config['data_path']\n",
    "    date_format = \"%d/%m/%Y\"\n",
    "    if data_path == 'auto':\n",
    "        data_path = \"../Datasets/Forecasting_Aqua/ctd_meteo_aua_2019to2021_vsmall_toy.csv\"\n",
    "    df = pd.read_csv(data_path)\n",
    "    target_cols = []\n",
    "    target_cols+=list(df.keys().drop(['Datetime']))\n",
    "    NULL_VAL = 0.\n",
    "    \n",
    "\n",
    "dset = stf.data.CSVTimeSeries(\n",
    "    data_path=data_path,\n",
    "    target_cols=target_cols,\n",
    "    date_format = date_format,\n",
    "    nanval = NULL_VAL,\n",
    ")\n",
    "x_dim = 3\n",
    "y_dim = len(target_cols)\n",
    "loss_w = torch.zeros(y_dim)\n",
    "loss_w[0] = 1\n",
    "loss_w /=loss_w.sum()\n",
    "\n",
    "#build the model\n",
    "if config['model'] =='spacetimeformer':\n",
    "    forecaster = stf.spacetimeformer_model.Spacetimeformer_Forecaster(\n",
    "            d_y=y_dim,\n",
    "            d_x=x_dim,\n",
    "            start_token_len=config['start_token_len'],\n",
    "            attn_factor=config['attn_factor'],\n",
    "            d_model=config['d_model'],\n",
    "            n_heads=config['n_heads'],\n",
    "            e_layers=config['enc_layers'],\n",
    "            d_layers=config['dec_layers'],\n",
    "            d_ff=config['d_ff'],\n",
    "            dropout_emb=config['dropout_emb'],\n",
    "            dropout_token=config['dropout_token'],\n",
    "            dropout_attn_out=config['dropout_attn_out'],\n",
    "            dropout_qkv=config['dropout_qkv'],\n",
    "            dropout_ff=config['dropout_ff'],\n",
    "            global_self_attn=config['global_self_attn'],\n",
    "            local_self_attn=config['local_self_attn'],\n",
    "            global_cross_attn=config['global_cross_attn'],\n",
    "            local_cross_attn=config['local_cross_attn'],\n",
    "            performer_kernel=config['performer_kernel'],\n",
    "            performer_redraw_interval=config['performer_redraw_interval'],\n",
    "            post_norm=config['post_norm'],\n",
    "            norm=config['norm'],\n",
    "            activation=config['activation'],\n",
    "            init_lr=config['init_lr'],\n",
    "            base_lr=config['base_lr'],\n",
    "            warmup_steps=config['warmup_steps'],\n",
    "            decay_factor=config['decay_factor'],\n",
    "            initial_downsample_convs=config['initial_downsample_convs'],\n",
    "            intermediate_downsample_convs=config['intermediate_downsample_convs'],\n",
    "            embed_method=config['embed_method'],\n",
    "            l2_coeff=config['l2_coeff'],\n",
    "            loss=config['loss'],\n",
    "            linear_window=config['linear_window'],\n",
    "            class_loss_imp=config['class_loss_imp'],\n",
    "            time_emb_dim=config['time_emb_dim'],\n",
    "            loss_weight= loss_w\n",
    "        )\n",
    "elif config['model'] == \"lstm\":\n",
    "    forecaster = stf.lstm_model.LSTM_Forecaster(\n",
    "        # encoder\n",
    "        d_x=x_dim,\n",
    "        d_y=y_dim,\n",
    "        time_emb_dim=config['time_emb_dim'],\n",
    "        hidden_dim=config['hidden_dim'],\n",
    "        n_layers=config['n_layers'],\n",
    "        dropout_p=config['dropout_p'],\n",
    "        # training\n",
    "        learning_rate=config['learning_rate'],\n",
    "        teacher_forcing_prob=config['teacher_forcing_start'],\n",
    "        l2_coeff=config['l2_coeff'],\n",
    "        loss=config['loss'],\n",
    "        linear_window=config['linear_window'],\n",
    "    )\n",
    "if config['model']=='LTC':\n",
    "    print(\"not implemented\")\n"
   ]
  },
  {
   "cell_type": "code",
   "execution_count": 142,
   "id": "0688c0c7",
   "metadata": {},
   "outputs": [],
   "source": [
    "xx = forecaster.spacetimeformer.encoder.attn_layers[0].local_attention.query_projection.weight\n",
    "xxx = torch.tensor(xx)"
   ]
  },
  {
   "cell_type": "code",
   "execution_count": 143,
   "id": "19d46c0e",
   "metadata": {},
   "outputs": [],
   "source": [
    "with torch.no_grad():\n",
    "    xxx[0][0]=0\n"
   ]
  },
  {
   "cell_type": "code",
   "execution_count": 248,
   "id": "f1713681",
   "metadata": {},
   "outputs": [
    {
     "data": {
      "text/plain": [
       "Parameter containing:\n",
       "tensor([[ 0.0210,  0.0002, -0.0359,  ..., -0.0222,  0.0429,  0.0175],\n",
       "        [ 0.0283, -0.0005,  0.0008,  ..., -0.0614,  0.0519, -0.0569],\n",
       "        [ 0.0083,  0.0313, -0.0092,  ..., -0.0414,  0.0226,  0.0436],\n",
       "        ...,\n",
       "        [-0.0222, -0.0189, -0.0367,  ..., -0.0636, -0.0386, -0.0552],\n",
       "        [-0.0406,  0.0329, -0.0404,  ...,  0.0101, -0.0086, -0.0130],\n",
       "        [ 0.0311,  0.0318, -0.0182,  ...,  0.0559, -0.0324,  0.0553]],\n",
       "       requires_grad=True)"
      ]
     },
     "execution_count": 248,
     "metadata": {},
     "output_type": "execute_result"
    }
   ],
   "source": [
    "xxxx"
   ]
  },
  {
   "cell_type": "code",
   "execution_count": 145,
   "id": "28438e05",
   "metadata": {},
   "outputs": [
    {
     "data": {
      "text/plain": [
       "['..\\\\spacetimeformer\\\\data\\\\stf_model_checkpoints\\\\test_toy_lstm_no_noise_849527915\\\\test_toy_lstm_no_noiseepoch=02-val\\\\loss=0.05.ckpt']"
      ]
     },
     "execution_count": 145,
     "metadata": {},
     "output_type": "execute_result"
    }
   ],
   "source": [
    "#load the checkpoints\n",
    "checkpoints_dir = \"..\\\\spacetimeformer\\\\data\\\\stf_model_checkpoints\\\\\"\n",
    "run_name = config['run_name']\n",
    "salt = \"8495\"\n",
    "\n",
    "checkpoints = glob.glob(checkpoints_dir+run_name+\"_\"+salt+\"*\\\\*\\\\*\",recursive=True)\n",
    "if len(checkpoints)>1:\n",
    "    print(\"please add a part of the random number so there is only one result\")\n",
    "checkpoint = checkpoints[0]\n",
    "checkpoints"
   ]
  },
  {
   "cell_type": "code",
   "execution_count": 146,
   "id": "630fcb4c",
   "metadata": {},
   "outputs": [
    {
     "data": {
      "text/plain": [
       "'spacetimeformer'"
      ]
     },
     "execution_count": 146,
     "metadata": {},
     "output_type": "execute_result"
    }
   ],
   "source": [
    "config['model']"
   ]
  },
  {
   "cell_type": "code",
   "execution_count": 224,
   "id": "83dc4311",
   "metadata": {},
   "outputs": [
    {
     "data": {
      "text/plain": [
       "<All keys matched successfully>"
      ]
     },
     "execution_count": 224,
     "metadata": {},
     "output_type": "execute_result"
    }
   ],
   "source": [
    "forecaster.load_state_dict(torch.load(checkpoint)['state_dict'],strict=True)"
   ]
  },
  {
   "cell_type": "code",
   "execution_count": 225,
   "id": "115a2e50",
   "metadata": {},
   "outputs": [
    {
     "data": {
      "image/png": "[encoded data removed]",
      "text/plain": [
       "<Figure size 432x288 with 1 Axes>"
      ]
     },
     "metadata": {
      "needs_background": "light"
     },
     "output_type": "display_data"
    }
   ],
   "source": [
    "key = 'mean_condF'\n",
    "y_train = dset.train_data[key]\n",
    "y_val = dset.val_data[key]\n",
    "y_test = dset.test_data[key]\n",
    "plt.plot(dset.train_data.index,y_train)\n",
    "plt.plot(dset.val_data.index,y_val)\n",
    "plt.plot(dset.test_data.index,y_test)\n",
    "plt.title(f\"Time series for {key}\")\n",
    "plt.legend([\"train data\",\"val data\",\"test data\"])\n",
    "plt.show()"
   ]
  },
  {
   "cell_type": "code",
   "execution_count": 226,
   "id": "aae79da4",
   "metadata": {},
   "outputs": [
    {
     "data": {
      "text/plain": [
       "658"
      ]
     },
     "execution_count": 226,
     "metadata": {},
     "output_type": "execute_result"
    }
   ],
   "source": [
    "len(dset.train_data)"
   ]
  },
  {
   "cell_type": "markdown",
   "id": "11f01fdd",
   "metadata": {},
   "source": [
    "As one can see, some keys like cluster_7 needs strong extrapolation capabilities, as some events are only present in test data.\n",
    "This visualisation makes it also clear why the validation score of the mean_chla was systematically worse than its test score: the test data is closer to the training data than the validation "
   ]
  },
  {
   "cell_type": "code",
   "execution_count": 256,
   "id": "13ab8e52",
   "metadata": {},
   "outputs": [],
   "source": [
    "idx = 0\n",
    "split_dset = stf.data.CSVTorchDset(dset,split='train',\n",
    "                         context_points=config['context_points'],\n",
    "                         target_points = config['target_points'])\n",
    "res_idx,*class_res=forecaster(split_dset[idx][0].unsqueeze(0),\n",
    "                      split_dset[idx][1].unsqueeze(0),\n",
    "                      split_dset[idx][2].unsqueeze(0),\n",
    "                      split_dset[idx][3].unsqueeze(0),\n",
    "                      **forecaster.eval_step_forward_kwargs)"
   ]
  },
  {
   "cell_type": "code",
   "execution_count": 257,
   "id": "050bc3bc",
   "metadata": {},
   "outputs": [
    {
     "data": {
      "text/plain": [
       "torch.Size([32])"
      ]
     },
     "execution_count": 257,
     "metadata": {},
     "output_type": "execute_result"
    }
   ],
   "source": [
    "split_dset[idx][3][:,0].shape"
   ]
  },
  {
   "cell_type": "code",
   "execution_count": 258,
   "id": "70333dfc",
   "metadata": {},
   "outputs": [
    {
     "data": {
      "text/plain": [
       "[<matplotlib.lines.Line2D at 0x22912aaa760>]"
      ]
     },
     "execution_count": 258,
     "metadata": {},
     "output_type": "execute_result"
    },
    {
     "data": {
      "image/png": "[encoded data removed]",
      "text/plain": [
       "<Figure size 432x288 with 1 Axes>"
      ]
     },
     "metadata": {
      "needs_background": "light"
     },
     "output_type": "display_data"
    }
   ],
   "source": [
    "plt.plot(range(config['context_points'],config['context_points']+config['target_points']),\n",
    "         res_idx.loc[0,:,0].detach().numpy())\n",
    "plt.plot(range(config['context_points'],config['context_points']+config['target_points']),\n",
    "         split_dset[idx][3][:,0])\n",
    "plt.plot(range(config['context_points']),split_dset[idx][1][:,0])"
   ]
  },
  {
   "cell_type": "code",
   "execution_count": 259,
   "id": "6279d56e",
   "metadata": {},
   "outputs": [
    {
     "name": "stdout",
     "output_type": "stream",
     "text": [
      "split: train\n",
      "split: val\n",
      "split: test\n",
      "58\r"
     ]
    }
   ],
   "source": [
    "#predict all results\n",
    "res = {}\n",
    "for split in ['train','val','test']:\n",
    "    split_dset = stf.data.CSVTorchDset(dset,split=split,\n",
    "                         context_points=config['context_points'],\n",
    "                         target_points = config['target_points'])\n",
    "    res[split]=[]\n",
    "    print(f\"split: {split}\")\n",
    "    for idx in range(len(split_dset)):\n",
    "        print(idx,end='\\r')\n",
    "        with torch.no_grad():\n",
    "            res_idx,*class_res=forecaster(split_dset[idx][0].unsqueeze(0),\n",
    "                                  split_dset[idx][1].unsqueeze(0),\n",
    "                                  split_dset[idx][2].unsqueeze(0),\n",
    "                                  split_dset[idx][3].unsqueeze(0),\n",
    "                                  **forecaster.eval_step_forward_kwargs)\n",
    "            if isinstance(res_idx,Normal):\n",
    "                res[split].append(res_idx.loc.squeeze())\n",
    "            else:\n",
    "                res[split].append(res_idx.squeeze())\n"
   ]
  },
  {
   "cell_type": "code",
   "execution_count": 232,
   "id": "16634b59",
   "metadata": {},
   "outputs": [],
   "source": [
    "pred_training = torch.stack(res['train'])\n",
    "pred_val = torch.stack(res['val'])\n",
    "pred_test = torch.stack(res['test'])"
   ]
  },
  {
   "cell_type": "code",
   "execution_count": 251,
   "id": "6d832ccb",
   "metadata": {},
   "outputs": [
    {
     "data": {
      "text/plain": [
       "0"
      ]
     },
     "execution_count": 251,
     "metadata": {},
     "output_type": "execute_result"
    }
   ],
   "source": [
    "config['linear_window']"
   ]
  },
  {
   "cell_type": "code",
   "execution_count": 249,
   "id": "0a0cc706",
   "metadata": {},
   "outputs": [
    {
     "data": {
      "text/plain": [
       "Parameter containing:\n",
       "tensor([[ 0.0210,  0.0002, -0.0359,  ..., -0.0222,  0.0429,  0.0175],\n",
       "        [ 0.0283, -0.0005,  0.0008,  ..., -0.0614,  0.0519, -0.0569],\n",
       "        [ 0.0083,  0.0313, -0.0092,  ..., -0.0414,  0.0226,  0.0436],\n",
       "        ...,\n",
       "        [-0.0222, -0.0189, -0.0367,  ..., -0.0636, -0.0386, -0.0552],\n",
       "        [-0.0406,  0.0329, -0.0404,  ...,  0.0101, -0.0086, -0.0130],\n",
       "        [ 0.0311,  0.0318, -0.0182,  ...,  0.0559, -0.0324,  0.0553]],\n",
       "       requires_grad=True)"
      ]
     },
     "execution_count": 249,
     "metadata": {},
     "output_type": "execute_result"
    }
   ],
   "source": [
    "xxxx"
   ]
  },
  {
   "cell_type": "code",
   "execution_count": 260,
   "id": "e2b620f2",
   "metadata": {},
   "outputs": [
    {
     "data": {
      "image/png": "[encoded data removed]",
      "text/plain": [
       "<Figure size 432x288 with 1 Axes>"
      ]
     },
     "metadata": {
      "needs_background": "light"
     },
     "output_type": "display_data"
    }
   ],
   "source": [
    "lag = 1\n",
    "key = \"mean_global_radiation\"\n",
    "#key = \"mean_condF\"\n",
    "\n",
    "\n",
    "idx = target_cols.index(key)\n",
    "ctx = config['context_points']\n",
    "lag -=1\n",
    "\n",
    "\n",
    "plt.plot(dset.train_data[key])\n",
    "plt.plot(dset.val_data[key])\n",
    "plt.plot(dset.test_data[key])\n",
    "\n",
    "plt.plot(range(lag+ctx,lag+ctx+len(pred_training)),pred_training[:,lag,idx])\n",
    "plt.plot((dset.val_data[key].index+lag+ctx)[:len(pred_val)],pred_val[:,lag,idx])\n",
    "plt.plot((dset.test_data[key].index+lag+ctx)[:len(pred_test)],pred_test[:,lag,idx])\n",
    "\n",
    "\n",
    "\n",
    "lag+=10\n",
    "plt.plot(range(lag+ctx,lag+ctx+len(pred_training)),pred_training[:,lag,idx])\n",
    "plt.plot((dset.val_data[key].index+lag+ctx)[:len(pred_val)],pred_val[:,lag,idx])\n",
    "plt.plot((dset.test_data[key].index+lag+ctx)[:len(pred_test)],pred_test[:,lag,idx])\n",
    "\n",
    "\n",
    "\n",
    "plt.show()"
   ]
  },
  {
   "cell_type": "code",
   "execution_count": 261,
   "id": "5d56f06f",
   "metadata": {},
   "outputs": [
    {
     "data": {
      "text/plain": [
       "torch.Size([59, 32, 2])"
      ]
     },
     "execution_count": 261,
     "metadata": {},
     "output_type": "execute_result"
    }
   ],
   "source": [
    "pred_test.shape"
   ]
  },
  {
   "cell_type": "code",
   "execution_count": 262,
   "id": "c1839ad0",
   "metadata": {},
   "outputs": [
    {
     "data": {
      "text/plain": [
       "[<matplotlib.lines.Line2D at 0x22914460700>]"
      ]
     },
     "execution_count": 262,
     "metadata": {},
     "output_type": "execute_result"
    },
    {
     "data": {
      "image/png": "[encoded data removed]",
      "text/plain": [
       "<Figure size 432x288 with 1 Axes>"
      ]
     },
     "metadata": {
      "needs_background": "light"
     },
     "output_type": "display_data"
    }
   ],
   "source": [
    "plt.scatter(pred_training[:,0,idx],pred_training[:,10,idx])\n",
    "plt.plot((0,1),(0,1),c='r')"
   ]
  },
  {
   "cell_type": "code",
   "execution_count": null,
   "id": "09b6e90f",
   "metadata": {},
   "outputs": [],
   "source": []
  },
  {
   "cell_type": "code",
   "execution_count": 185,
   "id": "e59e58b4",
   "metadata": {},
   "outputs": [
    {
     "data": {
      "text/plain": [
       "[]"
      ]
     },
     "execution_count": 185,
     "metadata": {},
     "output_type": "execute_result"
    },
    {
     "data": {
      "image/png": "[encoded data removed]",
      "text/plain": [
       "<Figure size 432x288 with 1 Axes>"
      ]
     },
     "metadata": {
      "needs_background": "light"
     },
     "output_type": "display_data"
    }
   ],
   "source": [
    "plt.plot()"
   ]
  },
  {
   "cell_type": "code",
   "execution_count": 180,
   "id": "dddbe945",
   "metadata": {},
   "outputs": [
    {
     "ename": "SyntaxError",
     "evalue": "invalid syntax (2430649756.py, line 1)",
     "output_type": "error",
     "traceback": [
      "\u001b[1;36m  Input \u001b[1;32mIn [180]\u001b[1;36m\u001b[0m\n\u001b[1;33m    rse =\u001b[0m\n\u001b[1;37m          ^\u001b[0m\n\u001b[1;31mSyntaxError\u001b[0m\u001b[1;31m:\u001b[0m invalid syntax\n"
     ]
    }
   ],
   "source": [
    "rse = "
   ]
  },
  {
   "cell_type": "code",
   "execution_count": null,
   "id": "93df8a1e",
   "metadata": {},
   "outputs": [],
   "source": []
  }
 ],
 "metadata": {
  "kernelspec": {
   "display_name": "Python 3 (ipykernel)",
   "language": "python",
   "name": "python3"
  },
  "language_info": {
   "codemirror_mode": {
    "name": "ipython",
    "version": 3
   },
   "file_extension": ".py",
   "mimetype": "text/x-python",
   "name": "python",
   "nbconvert_exporter": "python",
   "pygments_lexer": "ipython3",
   "version": "3.8.0"
  }
 },
 "nbformat": 4,
 "nbformat_minor": 5
}
